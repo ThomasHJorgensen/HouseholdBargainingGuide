{
 "cells": [
  {
   "cell_type": "code",
   "execution_count": 1,
   "metadata": {},
   "outputs": [],
   "source": [
    "%load_ext autoreload\n",
    "%load_ext line_profiler\n",
    "%autoreload 2\n",
    "\n",
    "import numpy as np\n",
    "from mpl_toolkits import mplot3d\n",
    "import matplotlib\n",
    "import matplotlib.pyplot as plt\n",
    "import scipy.optimize as optimize\n",
    "\n",
    "import Bargaining as brg\n",
    "\n",
    "# plot style\n",
    "linestyles = ['-','--','-.',':',':']\n",
    "markers = ['o','s','D','*','P']\n",
    "linewidth = 2\n",
    "font_size = 17\n",
    "font = {'size':font_size}\n",
    "matplotlib.rc('font', **font)\n",
    "\n",
    "plt.rcParams.update({'figure.max_open_warning': 0})\n",
    "path = 'output/'\n",
    "\n",
    "# c++ settings\n",
    "do_cpp = True\n",
    "do_compile = False\n",
    "threads = 16"
   ]
  },
  {
   "cell_type": "code",
   "execution_count": 2,
   "metadata": {},
   "outputs": [],
   "source": [
    "# compile c++ files\n",
    "if do_cpp & do_compile:\n",
    "    model = brg.HouseholdModelClass(par={'do_cpp':do_cpp})\n",
    "    model.link_to_cpp(force_compile=do_compile)"
   ]
  },
  {
   "cell_type": "markdown",
   "metadata": {},
   "source": [
    "# Solve and simulate from alternative models"
   ]
  },
  {
   "cell_type": "code",
   "execution_count": 3,
   "metadata": {},
   "outputs": [],
   "source": [
    "# settings for models to solve\n",
    "T = 10\n",
    "num_power = 51\n",
    "num_love = 101\n",
    "specs = {\n",
    "    'model 1':{'latexname':'$\\sigma_{\\psi}=0$', 'par':{'sigma_love':0.0,'T':T,'do_cpp':do_cpp,'threads':threads}},\n",
    "    'model 2':{'latexname':'$\\sigma_{\\psi}=0.04$', 'par':{'sigma_love':0.04,'T':T,'do_cpp':do_cpp,'threads':threads}},\n",
    "    'model 3':{'latexname':'$\\sigma_{\\psi}=0.04 +$', 'par':{'sigma_love':0.04,'T':T,'num_love':num_love//2,'do_cpp':do_cpp,'threads':threads}},\n",
    "    'model 4':{'latexname':'$\\sigma_{\\psi}=0.04 ++$', 'par':{'sigma_love':0.04,'T':T,'num_love':num_love,'do_cpp':do_cpp,'threads':threads}},\n",
    "    # 'model 4':{'latexname':'$\\sigma_{\\psi}=0.04 +love$', 'par':{'sigma_love':0.04,'T':T,'num_love':100,'num_power':21,'do_cpp':do_cpp,'threads':threads}},\n",
    "    # 'model 5':{'latexname':'$\\sigma_{\\psi}=0.04 +power$', 'par':{'sigma_love':0.04,'T':T,'num_love':21,'num_power':100,'do_cpp':do_cpp,'threads':threads}},\n",
    "    # 'model 2':{'latexname':'$\\sigma_{\\psi}=0.04$', 'par':{'sigma_love':0.04,'T':T,'do_cpp':do_cpp,'threads':threads}},\n",
    "    # 'model 4':{'latexname':'$\\sigma_{\\psi}=0.1$', 'par':{'sigma_love':0.1,'T':T,'do_cpp':do_cpp,'threads':threads}},\n",
    "}"
   ]
  },
  {
   "cell_type": "code",
   "execution_count": null,
   "metadata": {},
   "outputs": [
    {
     "name": "stdout",
     "output_type": "stream",
     "text": [
      "solving model 1...\n"
     ]
    }
   ],
   "source": [
    "# solve different models\n",
    "models = {}\n",
    "for name,spec in specs.items():\n",
    "    print(f'solving {name}...')\n",
    "    \n",
    "    # setup model\n",
    "    models[name] = brg.HouseholdModelClass(name=name,par=spec['par'])\n",
    "    if do_cpp: models[name].link_to_cpp(force_compile=False)\n",
    "    models[name].spec = spec\n",
    "    \n",
    "    # solve\n",
    "    %time models[name].solve()"
   ]
  },
  {
   "cell_type": "markdown",
   "metadata": {},
   "source": [
    "# Simulated paths"
   ]
  },
  {
   "cell_type": "code",
   "execution_count": null,
   "metadata": {},
   "outputs": [],
   "source": [
    "#TODO: save the transition into singlehood as something. Basically just equal to value of single here.\n",
    "var_list = ('Cw_priv','Cm_priv','Cw_pub','C_tot','A','power','power_idx','love','couple')\n",
    "\n",
    "for init_power_idx in (1,10):\n",
    "    for init_love in (0.0,0.2): \n",
    "\n",
    "            for i,name in enumerate(specs.keys()):\n",
    "                model = models[name]\n",
    "\n",
    "                # show how starting of in a low bargaining power gradually improves\n",
    "                model.sim.init_power_idx[:] = init_power_idx\n",
    "                model.sim.init_love[:] = init_love \n",
    "                %time model.simulate()\n",
    "                \n",
    "            for var in var_list:\n",
    "\n",
    "                fig, ax = plt.subplots()\n",
    "                \n",
    "                for i,name in enumerate(specs.keys()):\n",
    "                    model = models[name]\n",
    "\n",
    "                    # pick out couples (if not the share of couples is plotted)\n",
    "                    if var == 'couple':\n",
    "                        nan = 0.0\n",
    "                    else:\n",
    "                        I = model.sim.couple<1\n",
    "                        nan = np.zeros(I.shape)\n",
    "                        nan[I] = np.nan\n",
    "\n",
    "                    # pick relevant variable for couples\n",
    "                    y = getattr(model.sim,var)        \n",
    "                    y = np.nanmean(y + nan,axis=0)\n",
    "\n",
    "                    ax.plot(y,marker=markers[i],linestyle=linestyles[i],linewidth=linewidth,label=model.spec['latexname']);\n",
    "                    ax.set(xlabel='age',ylabel=f'{var}');\n",
    "\n",
    "                plt.legend()\n",
    "\n",
    "                fig_name = f'sim {var} init power{np.round(model.par.grid_power[init_power_idx],2)}_love{init_love}'\n",
    "                plt.tight_layout()\n",
    "                plt.savefig(path+fig_name+'.pdf')"
   ]
  },
  {
   "cell_type": "code",
   "execution_count": null,
   "metadata": {},
   "outputs": [],
   "source": [
    "stop\n",
    "# old...\n",
    "# (np.abs(a - 1.9)).argmin()\n",
    "for init_power_idx in (20,): #(20,): #(1,10):\n",
    "    for init_love in (0.0,): #(0.0,0.2): \n",
    "\n",
    "        for var in ('Cw_priv','Cm_priv','Cw_pub','C_tot','A','power','power_idx','love','couple'):\n",
    "\n",
    "            fig, ax = plt.subplots()\n",
    "\n",
    "            for i,name in enumerate(specs.keys()):\n",
    "                model = models[name]\n",
    "\n",
    "                # show how starting of in a low bargaining power gradually improves\n",
    "                model.sim.init_power_idx[:] = init_power_idx\n",
    "                model.sim.init_love[:] = init_love \n",
    "                model.simulate()\n",
    "\n",
    "                # pick out couples (if not the share of couples is plotted)\n",
    "                if var == 'couple':\n",
    "                    nan = 0.0\n",
    "                else:\n",
    "                    I = model.sim.couple<1\n",
    "                    nan = np.zeros(I.shape)\n",
    "                    nan[I] = np.nan\n",
    "\n",
    "                # pick relevant variable for couples\n",
    "                y = getattr(model.sim,var)        \n",
    "                y = np.nanmean(y + nan,axis=0)\n",
    "\n",
    "                ax.plot(y,marker=markers[i],linestyle=linestyles[i],linewidth=linewidth,label=model.spec['latexname']);\n",
    "                ax.set(xlabel='age',ylabel=f'{var}');\n",
    "\n",
    "            plt.legend()\n",
    "\n",
    "            fig_name = f'sim {var} init power{np.round(model.par.grid_power[init_power_idx],2)}_love{init_love}'\n",
    "            plt.tight_layout()\n",
    "            plt.savefig(path+fig_name+'.pdf')"
   ]
  },
  {
   "cell_type": "code",
   "execution_count": null,
   "metadata": {},
   "outputs": [],
   "source": [
    "# interplation of index: Seems ok (bit wierd difference)\n",
    "# try more corret interpolation approach!!! \n",
    "#    interpolate value of being single and value of being a couple. And then do the entire opdating scheme in the simulation again...    "
   ]
  },
  {
   "cell_type": "code",
   "execution_count": null,
   "metadata": {},
   "outputs": [],
   "source": [
    "stop"
   ]
  },
  {
   "cell_type": "code",
   "execution_count": null,
   "metadata": {},
   "outputs": [],
   "source": [
    "np.nanmax(models['model 2'].sim.C_tot,axis=0)"
   ]
  },
  {
   "cell_type": "markdown",
   "metadata": {},
   "source": [
    "# Policy functions"
   ]
  },
  {
   "cell_type": "code",
   "execution_count": null,
   "metadata": {},
   "outputs": [],
   "source": [
    "cmaps = ('viridis','gray')\n",
    "\n",
    "t =  0 #0 #par.T-1 - 1 \n",
    "iL = 5 \n",
    "\n",
    "par = models['model 1'].par\n",
    "X, Y = np.meshgrid(par.grid_power, par.grid_A,indexing='ij')\n",
    "\n",
    "for power_idx in (10,): #(1,10):'model 1'].\n",
    "    for iL in (5,): #(0.0,0.2): \n",
    "\n",
    "        for var in ('Vw_couple','Vm_couple','Cw_priv_couple','Cm_priv_couple','C_pub_couple','power'):\n",
    "\n",
    "            fig = plt.figure()\n",
    "            ax = plt.axes(projection='3d')\n",
    "\n",
    "            for i,name in enumerate(specs.keys()):\n",
    "                model = models[name]\n",
    "                \n",
    "                if var == 'power':\n",
    "                    power_idx = model.sol.power_idx[t,:,iL,:]\n",
    "                    Z = par.grid_power[power_idx] # if negative-> divorce. Then this wouldn't work\n",
    "\n",
    "                    Z[power_idx<0] = -9210.\n",
    "                else:\n",
    "                    Z = getattr(model.sol,var)[t,:,iL,:]\n",
    "\n",
    "                ax.plot_surface(X, Y, Z,rstride=1, cstride=1,\n",
    "                                cmap=cmaps[i], edgecolor='none',alpha=0.5);\n",
    "                ax.set(xlabel='power (woman)',ylabel='wealth',title=f'{var}');"
   ]
  },
  {
   "cell_type": "code",
   "execution_count": null,
   "metadata": {},
   "outputs": [],
   "source": [
    "# TODO: \n",
    "# 1. check when parameters change..\n",
    "# WHY ARE THEY NOT OVERLAPPING when sigma_love=0.1!!? I think it must have to do with the very steep slope in the bottom and the grid spacing\n",
    "# yes: that is why\n",
    "\n",
    "sol = model.sol\n",
    "par = model.par\n",
    "t =  0 #0 #par.T-1 - 1 \n",
    "iL = 5 # for negative shocks (iL<5), the relationship is doomed..\n",
    "\n",
    "for iA in [0,10,30]:\n",
    "    plt.plot(par.grid_power,sol.Vw_couple[t,:,iL,iA]);\n",
    "    plt.plot(par.grid_power,np.ones(par.grid_power.size)*sol.Vw_single[t,iA]); # the slight difference is from the discrete power grid\n",
    "    \n",
    "#     plt.plot(par.grid_power,par.grid_power[sol.power_idx[t,:,iL,iA]],marker='.')\n",
    "#     plt.plot(par.grid_power,par.grid_power,linestyle='--')"
   ]
  },
  {
   "cell_type": "code",
   "execution_count": null,
   "metadata": {},
   "outputs": [],
   "source": [
    "\n",
    "\n",
    "t = par.T-4\n",
    "iL = 5\n",
    "X, Y = np.meshgrid(par.grid_power, par.grid_A,indexing='ij')\n",
    "\n",
    "for var in ('Vw_couple','Vm_couple','Cw_priv_couple','Cm_priv_couple','C_pub_couple','power'):\n",
    "\n",
    "    fig = plt.figure()\n",
    "    ax = plt.axes(projection='3d')\n",
    "    \n",
    "    if var == 'power':\n",
    "        power_idx = sol.power_idx[t,:,iL,:]\n",
    "        Z = par.grid_power[power_idx] # if negative-> divorce. Then this wouldn't work\n",
    "        \n",
    "        Z[power_idx<0] = -9210.\n",
    "    else:\n",
    "        Z = getattr(sol,var)[t,:,iL,:]\n",
    "\n",
    "    ax.plot_surface(X, Y, Z,rstride=1, cstride=1,\n",
    "                    cmap='viridis', edgecolor='none');\n",
    "    ax.set(xlabel='power (woman)',ylabel='wealth',title=f'{var}');"
   ]
  },
  {
   "cell_type": "code",
   "execution_count": null,
   "metadata": {},
   "outputs": [],
   "source": [
    "# plot as a function of love and wealth\n",
    "t = par.T-4\n",
    "iP = 10\n",
    "X, Y = np.meshgrid(par.grid_love, par.grid_A,indexing='ij')\n",
    "\n",
    "for var in ('Vw_couple','Vm_couple','Cw_priv_couple','Cm_priv_couple','C_pub_couple','power'):\n",
    "\n",
    "    fig = plt.figure()\n",
    "    ax = plt.axes(projection='3d')\n",
    "    \n",
    "    if var == 'power':\n",
    "        power_idx = sol.power_idx[t,iP,:,:]\n",
    "        Z = par.grid_power[power_idx] # if negative-> divorce. Then this wouldn't work\n",
    "        \n",
    "        Z[power_idx<0] = -9210.\n",
    "    else:\n",
    "        Z = getattr(sol,var)[t,iP,:,:]\n",
    "\n",
    "    ax.plot_surface(X, Y, Z,rstride=1, cstride=1,\n",
    "                    cmap='viridis', edgecolor='none');\n",
    "    ax.set(xlabel='love',ylabel='wealth',title=f'{var}');"
   ]
  },
  {
   "cell_type": "code",
   "execution_count": null,
   "metadata": {},
   "outputs": [],
   "source": [
    "# plot as a function of power and love \n",
    "t = par.T-4\n",
    "iA = 10\n",
    "X, Y = np.meshgrid(par.grid_power, par.grid_love,indexing='ij')\n",
    "\n",
    "for var in ('Vw_couple','Vm_couple','Cw_priv_couple','Cm_priv_couple','C_pub_couple','power'):\n",
    "\n",
    "    fig = plt.figure()\n",
    "    ax = plt.axes(projection='3d')\n",
    "    \n",
    "    if var == 'power':\n",
    "        power_idx = sol.power_idx[t,:,:,iA]\n",
    "        Z = par.grid_power[power_idx] # if negative-> divorce. Then this wouldn't work\n",
    "        \n",
    "        Z[power_idx<0] = -9210.\n",
    "    else:\n",
    "        Z = getattr(sol,var)[t,:,:,iA]\n",
    "\n",
    "    ax.plot_surface(X, Y, Z,rstride=1, cstride=1,\n",
    "                    cmap='viridis', edgecolor='none');\n",
    "    ax.set(xlabel='power',ylabel='love',title=f'{var}');"
   ]
  },
  {
   "cell_type": "code",
   "execution_count": null,
   "metadata": {},
   "outputs": [],
   "source": [
    "# %lprun -f model.value_of_choice_couple -f brg.util -f model.indiv_value_of_choice_couple model.solve()"
   ]
  },
  {
   "cell_type": "code",
   "execution_count": null,
   "metadata": {},
   "outputs": [],
   "source": [
    "model_name = 'model 1'\n",
    "model = models[model_name]\n",
    "\n",
    "# show how starting of in a low bargaining power gradually improves\n",
    "model.sim.init_power_idx[:] = 1\n",
    "model.sim.init_love[:] = 0.2 # interesting difference: 0.0 vs 0.2   [with sigma_love=0.0]\n",
    "model.simulate()\n",
    "\n",
    "for var in ('Cw_priv','Cm_priv','Cw_pub','C_tot','A','power','love','couple'):\n",
    "\n",
    "    fig, ax = plt.subplots()\n",
    "    \n",
    "    if var == 'C_tot':\n",
    "        C_tot = model.sim.Cw_priv + model.sim.Cm_priv + model.sim.Cw_pub\n",
    "        y = np.nanmean(C_tot,axis=0)\n",
    "    else:\n",
    "        y = np.nanmean(getattr(model.sim,var),axis=0)\n",
    "\n",
    "    ax.plot(y,marker='.');\n",
    "    ax.set(xlabel='age',ylabel=f'{var}');"
   ]
  }
 ],
 "metadata": {
  "kernelspec": {
   "display_name": "Python 3",
   "language": "python",
   "name": "python3"
  },
  "language_info": {
   "codemirror_mode": {
    "name": "ipython",
    "version": 3
   },
   "file_extension": ".py",
   "mimetype": "text/x-python",
   "name": "python",
   "nbconvert_exporter": "python",
   "pygments_lexer": "ipython3",
   "version": "3.8.3"
  }
 },
 "nbformat": 4,
 "nbformat_minor": 4
}
