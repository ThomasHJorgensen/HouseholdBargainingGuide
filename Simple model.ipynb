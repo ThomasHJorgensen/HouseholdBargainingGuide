{
 "cells": [
  {
   "cell_type": "code",
   "execution_count": 1,
   "metadata": {},
   "outputs": [],
   "source": [
    "%load_ext autoreload\n",
    "%load_ext line_profiler\n",
    "%autoreload 2\n",
    "\n",
    "import numpy as np\n",
    "from mpl_toolkits import mplot3d\n",
    "import matplotlib.pyplot as plt\n",
    "import scipy.optimize as optimize\n",
    "\n",
    "import Bargaining as brg\n",
    "\n",
    "do_cpp = True\n",
    "do_compile = False"
   ]
  },
  {
   "cell_type": "markdown",
   "metadata": {},
   "source": [
    "# Solve and simulate from alternative models"
   ]
  },
  {
   "cell_type": "code",
   "execution_count": 2,
   "metadata": {},
   "outputs": [],
   "source": [
    "# settings for models to solve\n",
    "T = 10\n",
    "specs = {\n",
    "    'model 1':{'latexname':'no love shock, $\\sigma_{psi}=0$', 'par':{'sigma_love':0.0,'T':T,'do_cpp':do_cpp}},\n",
    "    'model 2':{'latexname':'with love shock, $\\sigma_{psi}=0.1$', 'par':{'sigma_love':0.1,'T':T,'do_cpp':do_cpp}},\n",
    "}"
   ]
  },
  {
   "cell_type": "code",
   "execution_count": 3,
   "metadata": {},
   "outputs": [
    {
     "name": "stdout",
     "output_type": "stream",
     "text": [
      "solving and simulating model 1...\n",
      "solving and simulating model 2...\n"
     ]
    }
   ],
   "source": [
    "# solve and simulate from models\n",
    "models = {}\n",
    "for name,spec in specs.items():\n",
    "    print(f'solving and simulating {name}...')\n",
    "    # setup model\n",
    "    models[name] = brg.HouseholdModelClass(name=name,par=spec['par'])\n",
    "    if do_cpp: models[name].link_to_cpp(force_compile=do_compile)\n",
    "    \n",
    "    # solve\n",
    "    models[name].solve()\n",
    "    \n",
    "    # simulate\n",
    "    models[name].simulate()"
   ]
  },
  {
   "cell_type": "code",
   "execution_count": 4,
   "metadata": {},
   "outputs": [
    {
     "ename": "TypeError",
     "evalue": "link_to_cpp() got an unexpected keyword argument 'check'",
     "output_type": "error",
     "traceback": [
      "\u001b[1;31m---------------------------------------------------------------------------\u001b[0m",
      "\u001b[1;31mTypeError\u001b[0m                                 Traceback (most recent call last)",
      "Input \u001b[1;32mIn [4]\u001b[0m, in \u001b[0;36m<cell line: 1>\u001b[1;34m()\u001b[0m\n\u001b[0;32m      3\u001b[0m fig, ax \u001b[38;5;241m=\u001b[39m plt\u001b[38;5;241m.\u001b[39msubplots()\n\u001b[0;32m      5\u001b[0m \u001b[38;5;28;01mfor\u001b[39;00m name \u001b[38;5;129;01min\u001b[39;00m (\u001b[38;5;124m'\u001b[39m\u001b[38;5;124mmodel 1\u001b[39m\u001b[38;5;124m'\u001b[39m,\u001b[38;5;124m'\u001b[39m\u001b[38;5;124mmodel 2\u001b[39m\u001b[38;5;124m'\u001b[39m):\n\u001b[1;32m----> 6\u001b[0m     model \u001b[38;5;241m=\u001b[39m \u001b[43mmodels\u001b[49m\u001b[43m[\u001b[49m\u001b[43mname\u001b[49m\u001b[43m]\u001b[49m\u001b[38;5;241;43m.\u001b[39;49m\u001b[43mcopy\u001b[49m\u001b[43m(\u001b[49m\u001b[43m)\u001b[49m\n\u001b[0;32m      8\u001b[0m     \u001b[38;5;66;03m# show how starting of in a low bargaining power gradually improves\u001b[39;00m\n\u001b[0;32m      9\u001b[0m     model\u001b[38;5;241m.\u001b[39msim\u001b[38;5;241m.\u001b[39minit_power_idx[:] \u001b[38;5;241m=\u001b[39m \u001b[38;5;241m1\u001b[39m\n",
      "File \u001b[1;32m~\\Anaconda3\\lib\\site-packages\\EconModel\\EconModel.py:253\u001b[0m, in \u001b[0;36mEconModelClass.copy\u001b[1;34m(self, name, **kwargs)\u001b[0m\n\u001b[0;32m    250\u001b[0m other \u001b[38;5;241m=\u001b[39m \u001b[38;5;28mself\u001b[39m\u001b[38;5;241m.\u001b[39m\u001b[38;5;18m__class__\u001b[39m(name\u001b[38;5;241m=\u001b[39mname)\n\u001b[0;32m    252\u001b[0m \u001b[38;5;66;03m# d. fill\u001b[39;00m\n\u001b[1;32m--> 253\u001b[0m \u001b[43mother\u001b[49m\u001b[38;5;241;43m.\u001b[39;49m\u001b[43mfrom_dict\u001b[49m\u001b[43m(\u001b[49m\u001b[43mmodel_dict\u001b[49m\u001b[43m,\u001b[49m\u001b[43mdo_copy\u001b[49m\u001b[38;5;241;43m=\u001b[39;49m\u001b[38;5;28;43;01mTrue\u001b[39;49;00m\u001b[43m)\u001b[49m\n\u001b[0;32m    254\u001b[0m other\u001b[38;5;241m.\u001b[39m__update(kwargs)\n\u001b[0;32m    256\u001b[0m \u001b[38;5;28;01mif\u001b[39;00m \u001b[38;5;28mhasattr\u001b[39m(\u001b[38;5;28mself\u001b[39m,\u001b[38;5;124m'\u001b[39m\u001b[38;5;124m_ns_specs\u001b[39m\u001b[38;5;124m'\u001b[39m): other\u001b[38;5;241m.\u001b[39m_ns_specs \u001b[38;5;241m=\u001b[39m \u001b[38;5;28mself\u001b[39m\u001b[38;5;241m.\u001b[39m_ns_specs\n",
      "File \u001b[1;32m~\\Anaconda3\\lib\\site-packages\\EconModel\\EconModel.py:205\u001b[0m, in \u001b[0;36mEconModelClass.from_dict\u001b[1;34m(self, model_dict, do_copy)\u001b[0m\n\u001b[0;32m    202\u001b[0m             \u001b[38;5;28msetattr\u001b[39m(\u001b[38;5;28mself\u001b[39m,attr,model_dict[attr])\n\u001b[0;32m    204\u001b[0m \u001b[38;5;28;01mif\u001b[39;00m model_dict[\u001b[38;5;124m'\u001b[39m\u001b[38;5;124mlink_to_cpp\u001b[39m\u001b[38;5;124m'\u001b[39m]: \n\u001b[1;32m--> 205\u001b[0m     \u001b[38;5;28;43mself\u001b[39;49m\u001b[38;5;241;43m.\u001b[39;49m\u001b[43mlink_to_cpp\u001b[49m\u001b[43m(\u001b[49m\u001b[43mforce_compile\u001b[49m\u001b[38;5;241;43m=\u001b[39;49m\u001b[38;5;28;43;01mFalse\u001b[39;49;00m\u001b[43m,\u001b[49m\u001b[43mcheck\u001b[49m\u001b[38;5;241;43m=\u001b[39;49m\u001b[38;5;28;43;01mFalse\u001b[39;49;00m\u001b[43m)\u001b[49m\n\u001b[0;32m    206\u001b[0m \u001b[38;5;28;01melse\u001b[39;00m:\n\u001b[0;32m    207\u001b[0m     \u001b[38;5;28mself\u001b[39m\u001b[38;5;241m.\u001b[39mcpp \u001b[38;5;241m=\u001b[39m SimpleNamespace()\n",
      "\u001b[1;31mTypeError\u001b[0m: link_to_cpp() got an unexpected keyword argument 'check'"
     ]
    },
    {
     "data": {
      "image/png": "[encoded data removed]",
      "text/plain": [
       "<Figure size 432x288 with 1 Axes>"
      ]
     },
     "metadata": {
      "needs_background": "light"
     },
     "output_type": "display_data"
    }
   ],
   "source": [
    "for var in ('Cw_priv','Cm_priv','Cw_pub','C_tot','A','power','love','couple'):\n",
    "\n",
    "    fig, ax = plt.subplots()\n",
    "\n",
    "    for name in ('model 1','model 2'):\n",
    "        model = models[name].copy()\n",
    "\n",
    "        # show how starting of in a low bargaining power gradually improves\n",
    "        model.sim.init_power_idx[:] = 1\n",
    "        model.sim.init_love[:] = 0.2 # interesting difference: 0.0 vs 0.2   [with sigma_love=0.0]\n",
    "        model.simulate()\n",
    "\n",
    "    \n",
    "        if var == 'C_tot':\n",
    "            C_tot = model.sim.Cw_priv + model.sim.Cm_priv + model.sim.Cw_pub\n",
    "            y = np.nanmean(C_tot,axis=0)\n",
    "        else:\n",
    "            y = np.nanmean(getattr(model.sim,var),axis=0)\n",
    "\n",
    "        ax.plot(y,marker='.');\n",
    "        ax.set(xlabel='age',ylabel=f'{var}');"
   ]
  },
  {
   "cell_type": "code",
   "execution_count": null,
   "metadata": {},
   "outputs": [],
   "source": [
    "stop"
   ]
  },
  {
   "cell_type": "markdown",
   "metadata": {},
   "source": [
    "# Plot optimal behavior in alternative models "
   ]
  },
  {
   "cell_type": "code",
   "execution_count": null,
   "metadata": {},
   "outputs": [],
   "source": [
    "# TODO: \n",
    "# 1. check when parameters change..\n",
    "# WHY ARE THEY NOT OVERLAPPING when sigma_love=0.1!!? I think it must have to do with the very steep slope in the bottom and the grid spacing\n",
    "# yes: that is why\n",
    "\n",
    "sol = model.sol\n",
    "par = model.par\n",
    "t =  0 #0 #par.T-1 - 1 \n",
    "iL = 5 # for negative shocks (iL<5), the relationship is doomed..\n",
    "\n",
    "for iA in [0,10,30]:\n",
    "    plt.plot(par.grid_power,sol.Vw_couple[t,:,iL,iA]);\n",
    "    plt.plot(par.grid_power,np.ones(par.grid_power.size)*sol.Vw_single[t,iA]); # the slight difference is from the discrete power grid\n",
    "    \n",
    "#     plt.plot(par.grid_power,par.grid_power[sol.power_idx[t,:,iL,iA]],marker='.')\n",
    "#     plt.plot(par.grid_power,par.grid_power,linestyle='--')"
   ]
  },
  {
   "cell_type": "code",
   "execution_count": null,
   "metadata": {},
   "outputs": [],
   "source": [
    "\n",
    "\n",
    "t = par.T-4\n",
    "iL = 5\n",
    "X, Y = np.meshgrid(par.grid_power, par.grid_A,indexing='ij')\n",
    "\n",
    "for var in ('Vw_couple','Vm_couple','Cw_priv_couple','Cm_priv_couple','C_pub_couple','power'):\n",
    "\n",
    "    fig = plt.figure()\n",
    "    ax = plt.axes(projection='3d')\n",
    "    \n",
    "    if var == 'power':\n",
    "        power_idx = sol.power_idx[t,:,iL,:]\n",
    "        Z = par.grid_power[power_idx] # if negative-> divorce. Then this wouldn't work\n",
    "        \n",
    "        Z[power_idx<0] = -9210.\n",
    "    else:\n",
    "        Z = getattr(sol,var)[t,:,iL,:]\n",
    "\n",
    "    ax.plot_surface(X, Y, Z,rstride=1, cstride=1,\n",
    "                    cmap='viridis', edgecolor='none');\n",
    "    ax.set(xlabel='power (woman)',ylabel='wealth',title=f'{var}');"
   ]
  },
  {
   "cell_type": "code",
   "execution_count": null,
   "metadata": {},
   "outputs": [],
   "source": [
    "# plot as a function of love and wealth\n",
    "t = par.T-4\n",
    "iP = 10\n",
    "X, Y = np.meshgrid(par.grid_love, par.grid_A,indexing='ij')\n",
    "\n",
    "for var in ('Vw_couple','Vm_couple','Cw_priv_couple','Cm_priv_couple','C_pub_couple','power'):\n",
    "\n",
    "    fig = plt.figure()\n",
    "    ax = plt.axes(projection='3d')\n",
    "    \n",
    "    if var == 'power':\n",
    "        power_idx = sol.power_idx[t,iP,:,:]\n",
    "        Z = par.grid_power[power_idx] # if negative-> divorce. Then this wouldn't work\n",
    "        \n",
    "        Z[power_idx<0] = -9210.\n",
    "    else:\n",
    "        Z = getattr(sol,var)[t,iP,:,:]\n",
    "\n",
    "    ax.plot_surface(X, Y, Z,rstride=1, cstride=1,\n",
    "                    cmap='viridis', edgecolor='none');\n",
    "    ax.set(xlabel='love',ylabel='wealth',title=f'{var}');"
   ]
  },
  {
   "cell_type": "code",
   "execution_count": null,
   "metadata": {},
   "outputs": [],
   "source": [
    "# plot as a function of power and love \n",
    "t = par.T-4\n",
    "iA = 10\n",
    "X, Y = np.meshgrid(par.grid_power, par.grid_love,indexing='ij')\n",
    "\n",
    "for var in ('Vw_couple','Vm_couple','Cw_priv_couple','Cm_priv_couple','C_pub_couple','power'):\n",
    "\n",
    "    fig = plt.figure()\n",
    "    ax = plt.axes(projection='3d')\n",
    "    \n",
    "    if var == 'power':\n",
    "        power_idx = sol.power_idx[t,:,:,iA]\n",
    "        Z = par.grid_power[power_idx] # if negative-> divorce. Then this wouldn't work\n",
    "        \n",
    "        Z[power_idx<0] = -9210.\n",
    "    else:\n",
    "        Z = getattr(sol,var)[t,:,:,iA]\n",
    "\n",
    "    ax.plot_surface(X, Y, Z,rstride=1, cstride=1,\n",
    "                    cmap='viridis', edgecolor='none');\n",
    "    ax.set(xlabel='power',ylabel='love',title=f'{var}');"
   ]
  },
  {
   "cell_type": "code",
   "execution_count": null,
   "metadata": {},
   "outputs": [],
   "source": [
    "# %lprun -f model.value_of_choice_couple -f brg.util -f model.indiv_value_of_choice_couple model.solve()"
   ]
  },
  {
   "cell_type": "code",
   "execution_count": null,
   "metadata": {},
   "outputs": [],
   "source": [
    "model_name = 'model 1'\n",
    "model = models[model_name]\n",
    "\n",
    "# show how starting of in a low bargaining power gradually improves\n",
    "model.sim.init_power_idx[:] = 1\n",
    "model.sim.init_love[:] = 0.2 # interesting difference: 0.0 vs 0.2   [with sigma_love=0.0]\n",
    "model.simulate()\n",
    "\n",
    "for var in ('Cw_priv','Cm_priv','Cw_pub','C_tot','A','power','love','couple'):\n",
    "\n",
    "    fig, ax = plt.subplots()\n",
    "    \n",
    "    if var == 'C_tot':\n",
    "        C_tot = model.sim.Cw_priv + model.sim.Cm_priv + model.sim.Cw_pub\n",
    "        y = np.nanmean(C_tot,axis=0)\n",
    "    else:\n",
    "        y = np.nanmean(getattr(model.sim,var),axis=0)\n",
    "\n",
    "    ax.plot(y,marker='.');\n",
    "    ax.set(xlabel='age',ylabel=f'{var}');"
   ]
  }
 ],
 "metadata": {
  "kernelspec": {
   "display_name": "Python 3 (ipykernel)",
   "language": "python",
   "name": "python3"
  },
  "language_info": {
   "codemirror_mode": {
    "name": "ipython",
    "version": 3
   },
   "file_extension": ".py",
   "mimetype": "text/x-python",
   "name": "python",
   "nbconvert_exporter": "python",
   "pygments_lexer": "ipython3",
   "version": "3.8.6"
  }
 },
 "nbformat": 4,
 "nbformat_minor": 4
}
