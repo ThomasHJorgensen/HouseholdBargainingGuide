{
 "cells": [
  {
   "cell_type": "markdown",
   "metadata": {},
   "source": [
    "# Setup"
   ]
  },
  {
   "cell_type": "markdown",
   "metadata": {},
   "source": [
    "#### Load Packages"
   ]
  },
  {
   "cell_type": "code",
   "execution_count": 1,
   "metadata": {},
   "outputs": [],
   "source": [
    "%load_ext autoreload\n",
    "%load_ext line_profiler\n",
    "%autoreload 2\n",
    "\n",
    "# import packages\n",
    "import numpy as np\n",
    "import matplotlib.pyplot as plt\n",
    "\n",
    "# import modules\n",
    "import Bargaining as brg\n",
    "from figures import *\n",
    "from checks import *"
   ]
  },
  {
   "cell_type": "markdown",
   "metadata": {},
   "source": [
    "#### Compile C++ files"
   ]
  },
  {
   "cell_type": "code",
   "execution_count": 2,
   "metadata": {},
   "outputs": [
    {
     "name": "stdout",
     "output_type": "stream",
     "text": [
      "terminal:\n",
      "\n",
      "e:\\AHJ\\projects\\guide\\HouseholdBargainingGuide>cd /d \"C:/Program Files/Microsoft Visual Studio/2022/Community/VC/Auxiliary/Build/\" \n",
      "\n",
      "C:\\Program Files\\Microsoft Visual Studio\\2022\\Community\\VC\\Auxiliary\\Build>call vcvarsall.bat x64 \n",
      "**********************************************************************\n",
      "** Visual Studio 2022 Developer Command Prompt v17.7.6\n",
      "** Copyright (c) 2022 Microsoft Corporation\n",
      "**********************************************************************\n",
      "[vcvarsall.bat] Environment initialized for: 'x64'\n",
      "solve.cpp\n",
      "e:\\AHJ\\projects\\guide\\HouseholdBargainingGuide\\cppfuncs\\index.cpp(18): warning C5208: unnamed class used in typedef name cannot declare members other than non-static data members, member enumerations, or member classes\n",
      "C:\\Program Files\\Microsoft Visual Studio\\2022\\Community\\VC\\Tools\\MSVC\\14.37.32822\\include\\algorithm(7912): warning C4244: 'argument': conversion from 'double' to 'int', possible loss of data\n",
      "C:\\Program Files\\Microsoft Visual Studio\\2022\\Community\\VC\\Tools\\MSVC\\14.37.32822\\include\\algorithm(8037): note: see reference to function template instantiation '_BidIt std::_Insertion_sort_unchecked<_RanIt,_Pr>(const _BidIt,const _BidIt,_Pr)' being compiled\n",
      "        with\n",
      "        [\n",
      "            _BidIt=double *,\n",
      "            _RanIt=double *,\n",
      "            _Pr=couple::get_sorting_index::<lambda_4ebdbbb905034ad2f6af9e97330ebbce>\n",
      "        ]\n",
      "C:\\Program Files\\Microsoft Visual Studio\\2022\\Community\\VC\\Tools\\MSVC\\14.37.32822\\include\\algorithm(8067): note: see reference to function template instantiation 'void std::_Sort_unchecked<_RanIt,_Fn>(_RanIt,_RanIt,__int64,_Pr)' being compiled\n",
      "        with\n",
      "        [\n",
      "            _RanIt=double *,\n",
      "            _Fn=couple::get_sorting_index::<lambda_4ebdbbb905034ad2f6af9e97330ebbce>,\n",
      "            _Pr=couple::get_sorting_index::<lambda_4ebdbbb905034ad2f6af9e97330ebbce>\n",
      "        ]\n",
      "e:\\AHJ\\projects\\guide\\HouseholdBargainingGuide\\cppfuncs\\couple.cpp(275): note: see reference to function template instantiation 'void std::sort<double*,couple::get_sorting_index::<lambda_4ebdbbb905034ad2f6af9e97330ebbce>>(const _RanIt,const _RanIt,_Pr)' being compiled\n",
      "        with\n",
      "        [\n",
      "            _RanIt=double *,\n",
      "            _Pr=couple::get_sorting_index::<lambda_4ebdbbb905034ad2f6af9e97330ebbce>\n",
      "        ]\n",
      "C:\\Program Files\\Microsoft Visual Studio\\2022\\Community\\VC\\Tools\\MSVC\\14.37.32822\\include\\algorithm(7916): warning C4244: 'argument': conversion from 'double' to 'int', possible loss of data\n",
      "C:\\Program Files\\Microsoft Visual Studio\\2022\\Community\\VC\\Tools\\MSVC\\14.37.32822\\include\\algorithm(7969): warning C4244: 'argument': conversion from 'double' to 'int', possible loss of data\n",
      "C:\\Program Files\\Microsoft Visual Studio\\2022\\Community\\VC\\Tools\\MSVC\\14.37.32822\\include\\algorithm(8048): note: see reference to function template instantiation 'std::pair<_RanIt,_RanIt> std::_Partition_by_median_guess_unchecked<_RanIt,_Pr>(_RanIt,_RanIt,_Pr)' being compiled\n",
      "        with\n",
      "        [\n",
      "            _RanIt=double *,\n",
      "            _Pr=couple::get_sorting_index::<lambda_4ebdbbb905034ad2f6af9e97330ebbce>\n",
      "        ]\n",
      "C:\\Program Files\\Microsoft Visual Studio\\2022\\Community\\VC\\Tools\\MSVC\\14.37.32822\\include\\algorithm(7970): warning C4244: 'argument': conversion from 'double' to 'int', possible loss of data\n",
      "C:\\Program Files\\Microsoft Visual Studio\\2022\\Community\\VC\\Tools\\MSVC\\14.37.32822\\include\\algorithm(7970): warning C4244: 'argument': conversion from 'double' to 'int', possible loss of data\n",
      "C:\\Program Files\\Microsoft Visual Studio\\2022\\Community\\VC\\Tools\\MSVC\\14.37.32822\\include\\algorithm(7974): warning C4244: 'argument': conversion from 'double' to 'int', possible loss of data\n",
      "C:\\Program Files\\Microsoft Visual Studio\\2022\\Community\\VC\\Tools\\MSVC\\14.37.32822\\include\\algorithm(7974): warning C4244: 'argument': conversion from 'double' to 'int', possible loss of data\n",
      "C:\\Program Files\\Microsoft Visual Studio\\2022\\Community\\VC\\Tools\\MSVC\\14.37.32822\\include\\algorithm(7974): warning C4244: 'argument': conversion from 'double' to 'int', possible loss of data\n",
      "C:\\Program Files\\Microsoft Visual Studio\\2022\\Community\\VC\\Tools\\MSVC\\14.37.32822\\include\\algorithm(7983): warning C4244: 'argument': conversion from 'double' to 'int', possible loss of data\n",
      "C:\\Program Files\\Microsoft Visual Studio\\2022\\Community\\VC\\Tools\\MSVC\\14.37.32822\\include\\algorithm(7985): warning C4244: 'argument': conversion from 'double' to 'int', possible loss of data\n",
      "C:\\Program Files\\Microsoft Visual Studio\\2022\\Community\\VC\\Tools\\MSVC\\14.37.32822\\include\\algorithm(7985): warning C4244: 'argument': conversion from 'double' to 'int', possible loss of data\n",
      "C:\\Program Files\\Microsoft Visual Studio\\2022\\Community\\VC\\Tools\\MSVC\\14.37.32822\\include\\algorithm(7997): warning C4244: 'argument': conversion from 'double' to 'int', possible loss of data\n",
      "C:\\Program Files\\Microsoft Visual Studio\\2022\\Community\\VC\\Tools\\MSVC\\14.37.32822\\include\\algorithm(7999): warning C4244: 'argument': conversion from 'double' to 'int', possible loss of data\n",
      "C:\\Program Files\\Microsoft Visual Studio\\2022\\Community\\VC\\Tools\\MSVC\\14.37.32822\\include\\algorithm(7999): warning C4244: 'argument': conversion from 'double' to 'int', possible loss of data\n",
      "C:\\Program Files\\Microsoft Visual Studio\\2022\\Community\\VC\\Tools\\MSVC\\14.37.32822\\include\\algorithm(6445): warning C4244: 'argument': conversion from 'double' to 'int', possible loss of data\n",
      "C:\\Program Files\\Microsoft Visual Studio\\2022\\Community\\VC\\Tools\\MSVC\\14.37.32822\\include\\algorithm(6601): note: see reference to function template instantiation 'void std::_Pop_heap_hole_by_index<_RanIt,double,_Pr>(_RanIt,__int64,__int64,_Ty &&,_Pr)' being compiled\n",
      "        with\n",
      "        [\n",
      "            _RanIt=double *,\n",
      "            _Pr=couple::get_sorting_index::<lambda_4ebdbbb905034ad2f6af9e97330ebbce>,\n",
      "            _Ty=double\n",
      "        ]\n",
      "C:\\Program Files\\Microsoft Visual Studio\\2022\\Community\\VC\\Tools\\MSVC\\14.37.32822\\include\\algorithm(8042): note: see reference to function template instantiation 'void std::_Make_heap_unchecked<_RanIt,_Pr>(_RanIt,_RanIt,_Pr)' being compiled\n",
      "        with\n",
      "        [\n",
      "            _RanIt=double *,\n",
      "            _Pr=couple::get_sorting_index::<lambda_4ebdbbb905034ad2f6af9e97330ebbce>\n",
      "        ]\n",
      "C:\\Program Files\\Microsoft Visual Studio\\2022\\Community\\VC\\Tools\\MSVC\\14.37.32822\\include\\algorithm(6328): warning C4244: 'argument': conversion from '_Ty' to 'int', possible loss of data\n",
      "        with\n",
      "        [\n",
      "            _Ty=double\n",
      "        ]\n",
      "C:\\Program Files\\Microsoft Visual Studio\\2022\\Community\\VC\\Tools\\MSVC\\14.37.32822\\include\\algorithm(6457): note: see reference to function template instantiation 'void std::_Push_heap_by_index<_RanIt,_Ty,_Pr>(_RanIt,__int64,__int64,_Ty &&,_Pr)' being compiled\n",
      "        with\n",
      "        [\n",
      "            _RanIt=double *,\n",
      "            _Ty=double,\n",
      "            _Pr=couple::get_sorting_index::<lambda_4ebdbbb905034ad2f6af9e97330ebbce>\n",
      "        ]\n",
      "C:\\Program Files\\Microsoft Visual Studio\\2022\\Community\\VC\\Tools\\MSVC\\14.37.32822\\include\\algorithm(6601): note: see reference to function template instantiation 'void std::_Pop_heap_hole_by_index<_RanIt,double,_Pr>(_RanIt,__int64,__int64,_Ty &&,_Pr)' being compiled\n",
      "        with\n",
      "        [\n",
      "            _RanIt=double *,\n",
      "            _Pr=couple::get_sorting_index::<lambda_4ebdbbb905034ad2f6af9e97330ebbce>,\n",
      "            _Ty=double\n",
      "        ]\n",
      "C:\\Program Files\\Microsoft Visual Studio\\2022\\Community\\VC\\Tools\\MSVC\\14.37.32822\\include\\algorithm(6328): warning C4244: 'argument': conversion from 'double' to 'int', possible loss of data\n",
      "C:\\Program Files\\Microsoft Visual Studio\\2022\\Community\\VC\\Tools\\MSVC\\14.37.32822\\include\\algorithm(7931): warning C4244: 'argument': conversion from 'double' to 'int', possible loss of data\n",
      "C:\\Program Files\\Microsoft Visual Studio\\2022\\Community\\VC\\Tools\\MSVC\\14.37.32822\\include\\algorithm(7952): note: see reference to function template instantiation 'void std::_Med3_unchecked<_RanIt,_Pr>(_RanIt,_RanIt,_RanIt,_Pr)' being compiled\n",
      "        with\n",
      "        [\n",
      "            _RanIt=double *,\n",
      "            _Pr=couple::get_sorting_index::<lambda_4ebdbbb905034ad2f6af9e97330ebbce>\n",
      "        ]\n",
      "C:\\Program Files\\Microsoft Visual Studio\\2022\\Community\\VC\\Tools\\MSVC\\14.37.32822\\include\\algorithm(7965): note: see reference to function template instantiation 'void std::_Guess_median_unchecked<_RanIt,_Pr>(_RanIt,_RanIt,_RanIt,_Pr)' being compiled\n",
      "        with\n",
      "        [\n",
      "            _RanIt=double *,\n",
      "            _Pr=couple::get_sorting_index::<lambda_4ebdbbb905034ad2f6af9e97330ebbce>\n",
      "        ]\n",
      "C:\\Program Files\\Microsoft Visual Studio\\2022\\Community\\VC\\Tools\\MSVC\\14.37.32822\\include\\algorithm(8048): note: see reference to function template instantiation 'std::pair<_RanIt,_RanIt> std::_Partition_by_median_guess_unchecked<_RanIt,_Pr>(_RanIt,_RanIt,_Pr)' being compiled\n",
      "        with\n",
      "        [\n",
      "            _RanIt=double *,\n",
      "            _Pr=couple::get_sorting_index::<lambda_4ebdbbb905034ad2f6af9e97330ebbce>\n",
      "        ]\n",
      "C:\\Program Files\\Microsoft Visual Studio\\2022\\Community\\VC\\Tools\\MSVC\\14.37.32822\\include\\algorithm(7935): warning C4244: 'argument': conversion from 'double' to 'int', possible loss of data\n",
      "C:\\Program Files\\Microsoft Visual Studio\\2022\\Community\\VC\\Tools\\MSVC\\14.37.32822\\include\\algorithm(7938): warning C4244: 'argument': conversion from 'double' to 'int', possible loss of data\n",
      "setup_omp.cpp\n",
      "Generating Code...\n",
      "Microsoft (R) Incremental Linker Version 14.37.32825.0\n",
      "Copyright (C) Microsoft Corporation.  All rights reserved.\n",
      "\n",
      "/out:solve.dll \n",
      "/dll \n",
      "/implib:solve.lib \n",
      "solve.obj \n",
      "setup_omp.obj \n",
      "cppfuncs/nlopt-2.4.2-dll64/libnlopt-0.lib \n",
      "LINK : fatal error LNK1104: cannot open file 'solve.dll'\n",
      "\n",
      "Microsoft (R) C/C++ Optimizing Compiler Version 19.37.32825 for x64\n",
      "Copyright (C) Microsoft Corporation.  All rights reserved.\n",
      "\n",
      "\n"
     ]
    },
    {
     "ename": "AttributeError",
     "evalue": "'types.SimpleNamespace' object has no attribute 'delink'",
     "output_type": "error",
     "traceback": [
      "\u001b[1;31m---------------------------------------------------------------------------\u001b[0m",
      "\u001b[1;31mRuntimeError\u001b[0m                              Traceback (most recent call last)",
      "\u001b[1;32me:\\AHJ\\projects\\guide\\HouseholdBargainingGuide\\Checking upper envelope.ipynb Cell 5\u001b[0m line \u001b[0;36m4\n\u001b[0;32m      <a href='vscode-notebook-cell:/e%3A/AHJ/projects/guide/HouseholdBargainingGuide/Checking%20upper%20envelope.ipynb#W4sZmlsZQ%3D%3D?line=2'>3</a>\u001b[0m \u001b[39mtry\u001b[39;00m:\n\u001b[1;32m----> <a href='vscode-notebook-cell:/e%3A/AHJ/projects/guide/HouseholdBargainingGuide/Checking%20upper%20envelope.ipynb#W4sZmlsZQ%3D%3D?line=3'>4</a>\u001b[0m     model\u001b[39m.\u001b[39mlink_to_cpp(force_compile\u001b[39m=\u001b[39m\u001b[39mTrue\u001b[39;00m)\n\u001b[0;32m      <a href='vscode-notebook-cell:/e%3A/AHJ/projects/guide/HouseholdBargainingGuide/Checking%20upper%20envelope.ipynb#W4sZmlsZQ%3D%3D?line=4'>5</a>\u001b[0m \u001b[39mexcept\u001b[39;00m:\n",
      "File \u001b[1;32mc:\\Users\\zbk883\\AppData\\Local\\anaconda3\\Lib\\site-packages\\EconModel\\EconModel.py:339\u001b[0m, in \u001b[0;36mEconModelClass.link_to_cpp\u001b[1;34m(self, force_compile, use_log, do_print)\u001b[0m\n\u001b[0;32m    338\u001b[0m \u001b[39m# b. link to C++\u001b[39;00m\n\u001b[1;32m--> 339\u001b[0m \u001b[39mself\u001b[39m\u001b[39m.\u001b[39mcpp \u001b[39m=\u001b[39m link_to_cpp(filename,force_compile\u001b[39m=\u001b[39mforce_compile,options\u001b[39m=\u001b[39moptions,\n\u001b[0;32m    340\u001b[0m     structsmap\u001b[39m=\u001b[39mstructsmap,use_log\u001b[39m=\u001b[39muse_log,do_print\u001b[39m=\u001b[39mdo_print)\n",
      "File \u001b[1;32mc:\\Users\\zbk883\\AppData\\Local\\anaconda3\\Lib\\site-packages\\EconModel\\cpptools.py:174\u001b[0m, in \u001b[0;36mlink_to_cpp.__init__\u001b[1;34m(self, filename, force_compile, structsmap, options, use_log, print_log, do_print)\u001b[0m\n\u001b[0;32m    172\u001b[0m \u001b[39mself\u001b[39m\u001b[39m.\u001b[39mlog \u001b[39m=\u001b[39m {}\n\u001b[1;32m--> 174\u001b[0m \u001b[39mself\u001b[39m\u001b[39m.\u001b[39mcompile(force_compile\u001b[39m=\u001b[39mforce_compile,do_print\u001b[39m=\u001b[39mdo_print)\n",
      "File \u001b[1;32mc:\\Users\\zbk883\\AppData\\Local\\anaconda3\\Lib\\site-packages\\EconModel\\cpptools.py:227\u001b[0m, in \u001b[0;36mlink_to_cpp.compile\u001b[1;34m(self, force_compile, do_print)\u001b[0m\n\u001b[0;32m    226\u001b[0m \u001b[39mif\u001b[39;00m \u001b[39mnot\u001b[39;00m os\u001b[39m.\u001b[39mpath\u001b[39m.\u001b[39misfile(\u001b[39mself\u001b[39m\u001b[39m.\u001b[39mdllfilename) \u001b[39mor\u001b[39;00m force_compile:\n\u001b[1;32m--> 227\u001b[0m     \u001b[39mcompile\u001b[39m(\u001b[39mself\u001b[39m\u001b[39m.\u001b[39mfilename,options\u001b[39m=\u001b[39m\u001b[39mself\u001b[39m\u001b[39m.\u001b[39moptions,do_print\u001b[39m=\u001b[39mdo_print)\n\u001b[0;32m    228\u001b[0m \u001b[39melse\u001b[39;00m:\n",
      "File \u001b[1;32mc:\\Users\\zbk883\\AppData\\Local\\anaconda3\\Lib\\site-packages\\EconModel\\cppcompile.py:409\u001b[0m, in \u001b[0;36mcompile\u001b[1;34m(filename, options, do_print)\u001b[0m\n\u001b[0;32m    408\u001b[0m     \u001b[39mprint\u001b[39m(result\u001b[39m.\u001b[39mstderr)\n\u001b[1;32m--> 409\u001b[0m     \u001b[39mraise\u001b[39;00m \u001b[39mRuntimeError\u001b[39;00m(\u001b[39m'\u001b[39m\u001b[39mC++ files can not be compiled\u001b[39m\u001b[39m'\u001b[39m)\n\u001b[0;32m    411\u001b[0m \u001b[39m# g. rename dll\u001b[39;00m\n",
      "\u001b[1;31mRuntimeError\u001b[0m: C++ files can not be compiled",
      "\nDuring handling of the above exception, another exception occurred:\n",
      "\u001b[1;31mAttributeError\u001b[0m                            Traceback (most recent call last)",
      "\u001b[1;32me:\\AHJ\\projects\\guide\\HouseholdBargainingGuide\\Checking upper envelope.ipynb Cell 5\u001b[0m line \u001b[0;36m6\n\u001b[0;32m      <a href='vscode-notebook-cell:/e%3A/AHJ/projects/guide/HouseholdBargainingGuide/Checking%20upper%20envelope.ipynb#W4sZmlsZQ%3D%3D?line=3'>4</a>\u001b[0m     model\u001b[39m.\u001b[39mlink_to_cpp(force_compile\u001b[39m=\u001b[39m\u001b[39mTrue\u001b[39;00m)\n\u001b[0;32m      <a href='vscode-notebook-cell:/e%3A/AHJ/projects/guide/HouseholdBargainingGuide/Checking%20upper%20envelope.ipynb#W4sZmlsZQ%3D%3D?line=4'>5</a>\u001b[0m \u001b[39mexcept\u001b[39;00m:\n\u001b[1;32m----> <a href='vscode-notebook-cell:/e%3A/AHJ/projects/guide/HouseholdBargainingGuide/Checking%20upper%20envelope.ipynb#W4sZmlsZQ%3D%3D?line=5'>6</a>\u001b[0m     model\u001b[39m.\u001b[39mcpp\u001b[39m.\u001b[39mdelink()\n\u001b[0;32m      <a href='vscode-notebook-cell:/e%3A/AHJ/projects/guide/HouseholdBargainingGuide/Checking%20upper%20envelope.ipynb#W4sZmlsZQ%3D%3D?line=6'>7</a>\u001b[0m     model\u001b[39m.\u001b[39mlink_to_cpp(force_compile\u001b[39m=\u001b[39m\u001b[39mTrue\u001b[39;00m)\n",
      "\u001b[1;31mAttributeError\u001b[0m: 'types.SimpleNamespace' object has no attribute 'delink'"
     ]
    }
   ],
   "source": [
    "# compile c++ files\n",
    "model = brg.HouseholdModelClass(par={'do_cpp':True,'num_Ctot':100})\n",
    "try:\n",
    "    model.link_to_cpp(force_compile=True)\n",
    "except:\n",
    "    model.cpp.delink()\n",
    "    model.link_to_cpp(force_compile=True)"
   ]
  },
  {
   "cell_type": "markdown",
   "metadata": {},
   "source": [
    "## Model Settings"
   ]
  },
  {
   "cell_type": "markdown",
   "metadata": {},
   "source": [
    "#### Specify Models"
   ]
  },
  {
   "cell_type": "code",
   "execution_count": null,
   "metadata": {},
   "outputs": [],
   "source": [
    "# Default settings\n",
    "T = 40\n",
    "do_load = False\n",
    "do_save = False\n",
    "threads = 50\n",
    "\n",
    "# adjusted model\n",
    "parameters = {\n",
    "#     'rho_w': 3.0,\n",
    "#     'alpha2_w': 3.0,\n",
    "       'max_A': 40.0,\n",
    "       'max_A_pd': 40.0,\n",
    "       'num_A': 400,\n",
    "       'num_A_pd': 400,\n",
    "       \n",
    "       'sigma_love':0.0,\n",
    "       'div_A_share':0.3,\n",
    "       'R':1.03,\n",
    "}\n",
    "\n",
    "# Model settings\n",
    "specs = {\n",
    "       # 'VFI':    \n",
    "       #        {'latexname':'', \n",
    "       #        'load': do_load,\n",
    "       #        'save': do_save,\n",
    "       #        'par':{'T':T,\n",
    "       #               'do_cpp':True,\n",
    "       #               'threads':threads,\n",
    "                     \n",
    "       #               'div_A_share':0.3,\n",
    "       #               'sigma_love':0.0,\n",
    "       #               'R':1.2,\n",
    "       #               'do_egm':False,\n",
    "       #               'max_A': 15.0,\n",
    "       #               }\n",
    "       #        },\n",
    "              \n",
    "       # 'EGM':    \n",
    "       #        {'latexname':'', \n",
    "       #        'load': do_load,\n",
    "       #        'save': do_save,\n",
    "       #        'par':{'T':T,\n",
    "       #               'do_cpp':True,\n",
    "       #               'threads':threads,\n",
    "                     \n",
    "       #               'div_A_share':0.3,\n",
    "       #               'sigma_love':0.0,\n",
    "       #               'R':1.2,\n",
    "       #               'do_egm':True,\n",
    "       #               'max_A': 15.0,\n",
    "       #               'analytic_marg_u_single':False,\n",
    "       #               'analytic_inv_marg_u_single':False,\n",
    "       #               'do_upper_env':True,\n",
    "       #               }\n",
    "       #        },\n",
    "\n",
    "       'weird VFI':    \n",
    "              {'latexname':'', \n",
    "              'load': do_load,\n",
    "              'save': do_save,\n",
    "              'par':{'T':T,\n",
    "                     'do_cpp':True,\n",
    "                     'threads':threads,\n",
    "\n",
    "                     'do_egm':False,\n",
    "\n",
    "                     **parameters\n",
    "                     }\n",
    "              },\n",
    "\n",
    "       # 'weird EGM':    \n",
    "       #        {'latexname':'', \n",
    "       #        'load': do_load,\n",
    "       #        'save': do_save,\n",
    "       #        'par':{'T':T,\n",
    "       #               'do_cpp':True,\n",
    "       #               'threads':threads,\n",
    "                     \n",
    "       #               'div_A_share':0.3,\n",
    "       #               'sigma_love':0.0,\n",
    "       #               'R':1.2,\n",
    "       #               'do_egm':True,\n",
    "       #               'max_A': 15.0,\n",
    "       #               'analytic_marg_u_single':False,\n",
    "       #               'analytic_inv_marg_u_single':False,\n",
    "       #               'do_upper_env':False,\n",
    "\n",
    "       #               **parameters\n",
    "       #               }\n",
    "       #        },\n",
    "       'weird EGM with envelope':    \n",
    "              {'latexname':'', \n",
    "              'load': do_load,\n",
    "              'save': do_save,\n",
    "              'par':{'T':T,\n",
    "                     'do_cpp':True,\n",
    "                     'threads':threads,\n",
    "\n",
    "                     'do_egm':True,\n",
    "                     'analytic_marg_u_single':False,\n",
    "                     'analytic_inv_marg_u_single':False,\n",
    "                     'do_upper_env':True,\n",
    "                     'marg_V_couple_finite_diff': True,\n",
    "                     **parameters\n",
    "                     }\n",
    "              },\n",
    "\n",
    "}"
   ]
  },
  {
   "cell_type": "code",
   "execution_count": null,
   "metadata": {},
   "outputs": [],
   "source": [
    "# get the first variable of specs\n",
    "name = list(specs.keys())[0]"
   ]
  },
  {
   "cell_type": "code",
   "execution_count": null,
   "metadata": {},
   "outputs": [],
   "source": [
    "# Make table\n",
    "print_specs_table(specs)"
   ]
  },
  {
   "cell_type": "markdown",
   "metadata": {},
   "source": [
    "#### Solve/Load models"
   ]
  },
  {
   "cell_type": "code",
   "execution_count": null,
   "metadata": {},
   "outputs": [],
   "source": [
    "# solve different models\n",
    "models = {}\n",
    "for name,spec in specs.items():\n",
    "        #unpack\n",
    "        par = spec['par']\n",
    "        do_load = spec['load']\n",
    "        do_save = spec['save']\n",
    "        \n",
    "        if do_load:\n",
    "            print(f'loading {name}...')\n",
    "        else:\n",
    "            print(f'solving {name}...')\n",
    "        \n",
    "        # setup model\n",
    "        models[name] = brg.HouseholdModelClass(name=name, par=spec['par'], load=do_load)\n",
    "        models[name].spec = spec\n",
    "        \n",
    "        # link to cpp\n",
    "        try:\n",
    "            models[name].link_to_cpp(force_compile=False)\n",
    "        except:\n",
    "            models[name].cpp.delink()\n",
    "            models[name].link_to_cpp(force_compile=False)\n",
    "        \n",
    "        # solve\n",
    "        if not do_load:\n",
    "            models[name].solve()\n",
    "        \n",
    "        # save model\n",
    "        if do_save:\n",
    "            models[name].save()\n",
    "        \n",
    "# Save model names\n",
    "model_names  = list(models.keys())"
   ]
  },
  {
   "cell_type": "markdown",
   "metadata": {},
   "source": [
    "## Compare solutions"
   ]
  },
  {
   "cell_type": "code",
   "execution_count": null,
   "metadata": {},
   "outputs": [],
   "source": [
    "# Choose index\n",
    "t  = 0 # non-monotonous bc of bargaining (when div_A_share = 0.3, marg_V_couple_finite_diff = False)\n",
    "iP = 10 # 14\n",
    "iL = 5\n",
    "iA = 149\n",
    "\n",
    "# t = 0 # non-monotonous bc of divorce (when div_A_share = 0.8)\n",
    "# iP = 15\n",
    "# iL = 20\n",
    "# iA = 30\n",
    "\n",
    "\n",
    "idx = (t,iP,iL,iA)"
   ]
  },
  {
   "cell_type": "markdown",
   "metadata": {},
   "source": [
    "Endogenous grids"
   ]
  },
  {
   "cell_type": "code",
   "execution_count": null,
   "metadata": {},
   "outputs": [],
   "source": [
    "par = models['weird EGM with envelope'].par\n",
    "sol = models['weird EGM with envelope'].sol\n",
    "\n",
    "# make a big figure\n",
    "fig = plt.figure(figsize=(12,8))\n",
    "\n",
    "for t in range(par.T):\n",
    "    plt.plot(sol.M_pd[t,iP,iL,:], sol.C_tot_pd[t,iP,iL,:], label=f'Endo_{t}')\n",
    "    plt.plot(par.grid_A*par.R + par.inc_w + par.inc_m, sol.C_tot_couple[t,iP,iL,:], linestyle='--', label=f'Exo_{t}')\n",
    "    \n",
    "    # Draw dot at end of asset grid\n",
    "    plt.scatter(par.grid_A_pd[-1]+sol.C_tot_pd[t,iP,iL,-1], sol.C_tot_pd[t,iP,iL,-1], color='black', s=5.0)\n",
    "    # plt.plot(par.grid_A_pd[-4:]+sol.C_tot_pd[t,iP,iL,-4:], sol.C_tot_pd[t,iP,iL,-4:], color='black')\n",
    "    \n",
    "    # annotate t at end of line \n",
    "    if t == par.T-1:\n",
    "        plt.annotate(f't={t}', (par.grid_A[-1]*par.R + par.inc_w + par.inc_m, sol.C_tot_couple[t,iP,iL,-1]), fontsize=10)\n",
    "    else:\n",
    "        plt.annotate(f't={t}', (sol.M_pd[t,iP,iL,-1], sol.C_tot_pd[t,iP,iL,-1]), fontsize=10)\n",
    "    \n",
    "# axis labels\n",
    "plt.xlabel('M')\n",
    "plt.ylabel('C')\n",
    "\n",
    "# axis limits\n",
    "# plt.xlim([0, 32])\n",
    "# plt.ylim([2.0, 2.8])\n",
    "\n",
    "# Draw vertical line at end of asset grid\n",
    "plt.axvline(par.grid_A[-1], linestyle='--', color='black', alpha=0.5)\n",
    "plt.axvline(par.grid_A[-1]*par.R + par.inc_w + par.inc_m, linestyle='--', color='black', alpha=0.5)\n"
   ]
  },
  {
   "cell_type": "code",
   "execution_count": null,
   "metadata": {},
   "outputs": [],
   "source": [
    "for t in range(par.T).__reversed__():\n",
    "    print(f't={t}: {sol.C_tot_couple[t,iP,iL,-4:]}')"
   ]
  },
  {
   "cell_type": "code",
   "execution_count": null,
   "metadata": {},
   "outputs": [],
   "source": [
    "for t in range(par.T).__reversed__():\n",
    "    print(f't={t}: {sol.C_tot_pd[t,iP,iL,-4:]}')"
   ]
  },
  {
   "cell_type": "code",
   "execution_count": null,
   "metadata": {},
   "outputs": [],
   "source": [
    "M = par.grid_A*par.R + par.inc_w + par.inc_m\n",
    "M"
   ]
  },
  {
   "cell_type": "code",
   "execution_count": null,
   "metadata": {},
   "outputs": [],
   "source": [
    "# is_sorted = lambda a: np.all(a[:-1] <= a[1:])\n",
    "\n",
    "# for t in range(par.T):\n",
    "#     for iP in range(par.num_power):\n",
    "#         for iL in range(par.num_love):\n",
    "#             print(f't={t}, iP={iP}, iL={iL}: {is_sorted(sol.M_pd[t,iP,iL,:])}')"
   ]
  },
  {
   "cell_type": "markdown",
   "metadata": {},
   "source": [
    "V couple"
   ]
  },
  {
   "cell_type": "code",
   "execution_count": null,
   "metadata": {},
   "outputs": [],
   "source": [
    "par = models['weird EGM with envelope'].par\n",
    "sol = models['weird EGM with envelope'].sol\n",
    "\n",
    "# make a big figure\n",
    "fig = plt.figure(figsize=(12,8))\n",
    "\n",
    "V_couple = np.zeros((par.T,par.num_A))\n",
    "for t in range(par.T):\n",
    "    V_couple[t,:] = par.grid_power[iP]*sol.Vm_remain_couple[t,iP,iL,:] + (1-par.grid_power[iP])*sol.Vw_remain_couple[t,iP,iL,:]\n",
    "    \n",
    "    M = par.grid_A*par.R + par.inc_w + par.inc_m\n",
    "    plt.plot(sol.M_pd[t,iP,iL,:], sol.V_couple_pd[t,iP,iL,:], label=f'Endo_{t}')\n",
    "    plt.plot(M, V_couple[t,:], linestyle='--', label=f'Exo_{t}')\n",
    "    \n",
    "    # annotate t at end of line \n",
    "    if t == par.T-1:\n",
    "        plt.annotate(f't={t}', (par.grid_A[-1]*par.R + par.inc_w + par.inc_m, V_couple[t,-1]), fontsize=10)\n",
    "    else:\n",
    "        plt.annotate(f't={t}', (sol.M_pd[t,iP,iL,-1], sol.V_couple_pd[t,iP,iL,-1]), fontsize=10)\n",
    "    \n",
    "# axis labels\n",
    "plt.xlabel('M')\n",
    "plt.ylabel('V')\n",
    "\n",
    "# axis limits\n",
    "# plt.xlim([0, 32])\n",
    "# plt.ylim([-15, -13])\n",
    "\n",
    "# Draw vertical line at end of asset grid\n",
    "plt.axvline(par.grid_A[-1], linestyle='--', color='black', alpha=0.5)\n",
    "plt.axvline(par.grid_A[-1]*par.R + par.inc_w + par.inc_m, linestyle='--', color='black', alpha=0.5)\n"
   ]
  },
  {
   "cell_type": "code",
   "execution_count": null,
   "metadata": {},
   "outputs": [],
   "source": [
    "sol.Vw_remain_couple[t,iP,iL,:]\n",
    "iP"
   ]
  },
  {
   "cell_type": "code",
   "execution_count": null,
   "metadata": {},
   "outputs": [],
   "source": [
    "for t in range(par.T).__reversed__():\n",
    "    print(f't={t}: {sol.power[t,iP,iL,-4:]*sol.Vm_couple[t,iP,iL,-4:] + (1-sol.power[t,iP,iL,-4:])*sol.Vw_couple[t,iP,iL,-4:]}')"
   ]
  },
  {
   "cell_type": "code",
   "execution_count": null,
   "metadata": {},
   "outputs": [],
   "source": [
    "for t in range(par.T).__reversed__():\n",
    "    print(f't={t}: {sol.V_couple_pd[t,iP,iL,-4:]}')"
   ]
  },
  {
   "cell_type": "markdown",
   "metadata": {},
   "source": [
    "marg V couple"
   ]
  },
  {
   "cell_type": "code",
   "execution_count": null,
   "metadata": {},
   "outputs": [],
   "source": [
    "par = models['weird EGM with envelope'].par\n",
    "sol = models['weird EGM with envelope'].sol\n",
    "\n",
    "# make a big figure\n",
    "fig = plt.figure(figsize=(12,8))\n",
    "\n",
    "V_couple = np.zeros((par.T,par.num_A))\n",
    "for t in range(par.T):\n",
    "\n",
    "    M = par.grid_A*par.R + par.inc_w + par.inc_m\n",
    "    plt.plot(M, sol.marg_V_couple[t,iP,iL,:], label=f'Endo_{t}')\n",
    "    \n",
    "    # annotate t at end of line \n",
    "    plt.annotate(f't={t}', (M[-1], sol.marg_V_couple[t,iP,iL,-1]), fontsize=10)\n",
    "    \n",
    "# axis labels\n",
    "plt.xlabel('M')\n",
    "plt.ylabel('marg_V')\n",
    "\n",
    "# axis limits\n",
    "# plt.xlim([0, 32])\n",
    "# plt.ylim([2.6, 2.8])\n",
    "\n",
    "# Draw vertical line at end of asset grid\n",
    "plt.axvline(par.grid_A[-1], linestyle='--', color='black', alpha=0.5)\n",
    "plt.axvline(par.grid_A[-1]*par.R + par.inc_w + par.inc_m, linestyle='--', color='black', alpha=0.5)\n"
   ]
  },
  {
   "cell_type": "code",
   "execution_count": null,
   "metadata": {},
   "outputs": [],
   "source": [
    "for t in range(par.T).__reversed__():\n",
    "    print(f't={t}: {sol.marg_V_couple[t,iP,iL,-4:]}')"
   ]
  },
  {
   "cell_type": "markdown",
   "metadata": {},
   "source": [
    "marg U"
   ]
  },
  {
   "cell_type": "code",
   "execution_count": null,
   "metadata": {},
   "outputs": [],
   "source": [
    "par = models['weird EGM with envelope'].par\n",
    "sol = models['weird EGM with envelope'].sol\n",
    "\n",
    "# make a big figure\n",
    "fig = plt.figure(figsize=(12,8))\n",
    "\n",
    "for t in range(par.T):\n",
    "\n",
    "    plt.plot(sol.M_pd[t,iP,iL,:], sol.EmargU_pd[t,iP,iL,:], label=f'Endo_{t}')\n",
    "    \n",
    "    # annotate t at end of line \n",
    "\n",
    "    plt.annotate(f't={t}', (sol.M_pd[t,iP,iL,-1], sol.EmargU_pd[t,iP,iL,-1]), fontsize=10)\n",
    "    \n",
    "# axis labels\n",
    "plt.xlabel('M')\n",
    "plt.ylabel('margU')\n",
    "\n",
    "# axis limits\n",
    "# plt.xlim([0, 32])\n",
    "# plt.ylim([2.6, 2.8])\n",
    "\n",
    "# Draw vertical line at end of asset grid\n",
    "plt.axvline(par.grid_A[-1], linestyle='--', color='black', alpha=0.5)\n",
    "plt.axvline(par.grid_A[-1]*par.R + par.inc_w + par.inc_m, linestyle='--', color='black', alpha=0.5)\n"
   ]
  },
  {
   "cell_type": "code",
   "execution_count": null,
   "metadata": {},
   "outputs": [],
   "source": [
    "for t in range(par.T).__reversed__():\n",
    "    print(f't={t}: {sol.EmargU_pd[t,iP,iL,-4:]}')"
   ]
  },
  {
   "cell_type": "code",
   "execution_count": null,
   "metadata": {},
   "outputs": [],
   "source": [
    "# par = models['weird EGM with envelope'].par\n",
    "# sol = models['weird EGM with envelope'].sol\n",
    "\n",
    "# # make a big figure\n",
    "# fig = plt.figure(figsize=(12,8))\n",
    "\n",
    "# for t in range(par.T):\n",
    "#     plt.plot(sol.M_pd[t,iP,iL,:], sol.EmargU_pd[t,iP,iL,:], label=f'Endo_{t}')\n",
    "    \n",
    "#     plt.annotate(f't={t}', (sol.M_pd[t,iP,iL,-1], sol.EmargU_pd[t,iP,iL,-1]), fontsize=10)\n",
    "\n",
    "# # axis labels\n",
    "# plt.xlabel('M')\n",
    "# plt.ylabel('margU')\n",
    "\n",
    "# # Draw vertical line at end of asset grid\n",
    "# plt.axvline(par.grid_A[-1], linestyle='--', color='black', alpha=0.5)\n",
    "# plt.axvline(par.grid_A[-1]*par.R + par.inc_w + par.inc_m, linestyle='--', color='black', alpha=0.5)"
   ]
  },
  {
   "cell_type": "markdown",
   "metadata": {},
   "source": [
    "# Other"
   ]
  },
  {
   "cell_type": "markdown",
   "metadata": {},
   "source": [
    "Bargaining"
   ]
  },
  {
   "cell_type": "code",
   "execution_count": null,
   "metadata": {},
   "outputs": [],
   "source": [
    "model_plot(models, plot_surplus, [''], t, iP, iL, 20)"
   ]
  },
  {
   "cell_type": "code",
   "execution_count": null,
   "metadata": {},
   "outputs": [],
   "source": [
    "# par = models['weird EGM with envelope'].par\n",
    "# sol = models['weird EGM with envelope'].sol\n",
    "\n",
    "# Sw = sol.Vw_remain_couple[t,:,iL,iA]-sol.Vw_single[t,iA]\n",
    "# Sm = sol.Vm_remain_couple[t,:,iL,iA]-sol.Vm_single[t,iA]\n",
    "\n",
    "# # plt.plot(par.grid_power, Sm)\n",
    "# # plt.plot(par.grid_power, Sw)\n",
    "\n",
    "# print('marg_V_remain\\n', sol.marg_V_remain_couple[t+1,:,iL,iA])\n",
    "# print('V_couple_pd\\n', sol.V_couple_pd[:,iL,iA])\n",
    "\n",
    "\n",
    "# print('Vw_remain\\n', sol.Vw_remain_couple[t,:,iL,iA])\n",
    "# print('Vm_remain\\n', sol.Vm_remain_couple[t,:,iL,iA])\n",
    "\n",
    "# print('C_tot_pd\\n', sol.C_tot_pd[iP,iL,:])\n",
    "# print('grid_A_pd\\n', par.grid_A_pd)\n",
    "# print('M_pd\\n', sol.M_pd[iP,iL,:])\n",
    "# print('M\\n', par.R * par.grid_A + par.inc_w + par.inc_m)\n"
   ]
  },
  {
   "cell_type": "markdown",
   "metadata": {},
   "source": [
    "Value functions, woman"
   ]
  },
  {
   "cell_type": "code",
   "execution_count": null,
   "metadata": {},
   "outputs": [],
   "source": [
    "model_plot(models, plot_var_over_assets, ['Vw_couple', 'Vw_remain_couple', 'Vw_single'], idx=idx, asset_grid=False, shared_legend=True, subtitles=model_names)"
   ]
  },
  {
   "cell_type": "markdown",
   "metadata": {},
   "source": [
    "Value functions, man"
   ]
  },
  {
   "cell_type": "code",
   "execution_count": null,
   "metadata": {},
   "outputs": [],
   "source": [
    "model_plot(models, plot_var_over_assets, ['Vm_couple', 'Vm_remain_couple', 'Vm_single'], idx=idx, asset_grid=False, shared_legend=True, subtitles=model_names)"
   ]
  },
  {
   "cell_type": "markdown",
   "metadata": {},
   "source": [
    "Marginal values"
   ]
  },
  {
   "cell_type": "code",
   "execution_count": null,
   "metadata": {},
   "outputs": [],
   "source": [
    "model_plot(models, plot_var_over_assets, ['marg_V_couple', 'marg_V_remain_couple'], idx=idx, asset_grid=False, shared_legend=True, subtitles=model_names)"
   ]
  },
  {
   "cell_type": "markdown",
   "metadata": {},
   "source": [
    "Bargaining power"
   ]
  },
  {
   "cell_type": "code",
   "execution_count": null,
   "metadata": {},
   "outputs": [],
   "source": [
    "model_plot(models, plot_var_over_assets, ['power'], idx=idx, asset_grid=False, shared_legend=True, subtitles=model_names)"
   ]
  },
  {
   "cell_type": "code",
   "execution_count": null,
   "metadata": {},
   "outputs": [],
   "source": [
    "#Next period bargaining power\n",
    "idx_lead = (t+1,iP,iL,iA)\n",
    "model_plot(models, plot_var_over_assets, ['power'], idx=idx_lead, asset_grid=False, shared_legend=True, subtitles=model_names)"
   ]
  },
  {
   "cell_type": "markdown",
   "metadata": {},
   "source": [
    "Total consumption"
   ]
  },
  {
   "cell_type": "code",
   "execution_count": null,
   "metadata": {},
   "outputs": [],
   "source": [
    "model_plot(models, plot_var_over_assets, ['C_tot_couple', 'C_tot_remain_couple'], idx=idx, asset_grid=False, shared_legend=True, subtitles=model_names)"
   ]
  },
  {
   "cell_type": "code",
   "execution_count": null,
   "metadata": {},
   "outputs": [],
   "source": [
    "VFI = models['weird VFI']\n",
    "\n",
    "V_remain_couple = (VFI.par.grid_power.reshape(-1,1))*VFI.sol.Vw_remain_couple[t,:,iL,:] + (1-VFI.par.grid_power.reshape(-1,1))*VFI.sol.Vm_remain_couple[t,:,iL,:]\n",
    "V_couple = (VFI.par.grid_power.reshape(-1,1))*VFI.sol.Vw_couple[t,:,iL,:] + (1-VFI.par.grid_power.reshape(-1,1))*VFI.sol.Vm_couple[t,:,iL,:] \n",
    "\n",
    "sol_power = VFI.sol.power[t,:,iL,:]\n",
    "power = VFI.par.grid_power.reshape(-1,1)\n",
    "V_couple_sol = (sol_power)*VFI.sol.Vw_couple[t,:,iL,:] + (1-sol_power)*VFI.sol.Vm_couple[t,:,iL,:]"
   ]
  },
  {
   "cell_type": "markdown",
   "metadata": {},
   "source": [
    "## So what's going on with weird EGM?"
   ]
  },
  {
   "cell_type": "code",
   "execution_count": null,
   "metadata": {},
   "outputs": [],
   "source": [
    "model = models['weird EGM with envelope']\n",
    "sol = model.sol\n",
    "par = model.par"
   ]
  },
  {
   "cell_type": "markdown",
   "metadata": {},
   "source": [
    "In period t+1, bargaining happens, meaning that the value function is shifted - all sorts of weird stuff can then happen with the marginal value"
   ]
  },
  {
   "cell_type": "code",
   "execution_count": null,
   "metadata": {},
   "outputs": [],
   "source": [
    "%matplotlib inline\n",
    "power = model.par.grid_power[iP]\n",
    "V_couple = power*sol.Vw_couple + (1-power)*sol.Vm_couple\n",
    "V_remain_couple = power*sol.Vw_remain_couple + (1-power)*sol.Vm_remain_couple\n",
    "\n",
    "ub = 100\n",
    "\n",
    "# plot with two subfigures\n",
    "fig, ax = plt.subplots(1,2, figsize=(12,4))\n",
    "ax[0].plot(par.grid_A[:ub], V_couple[t+1,iP,iL,:ub], label='couple')\n",
    "ax[0].plot(par.grid_A[:ub], V_remain_couple[t+1,iP,iL,:ub], label='remain couple')\n",
    "ax[0].set_title('V (time t+1)')\n",
    "ax[0].set_xlabel('A')   \n",
    "\n",
    "ax[1].plot(par.grid_A[:ub], sol.marg_V_couple[t+1,iP,iL,:ub], label='couple')\n",
    "ax[1].plot(par.grid_A[:ub], sol.marg_V_remain_couple[t+1,iP,iL,:ub], label='remain couple')\n",
    "ax[1].set_title('marginal V (time t+1)')\n",
    "ax[1].set_xlabel('A')\n",
    "\n",
    "lines, labels = ax[0].get_legend_handles_labels()\n",
    "fig.legend(lines, labels, loc='upper center', bbox_to_anchor=(0.5, 0.05), bbox_transform=fig.transFigure, ncol=3);"
   ]
  },
  {
   "cell_type": "code",
   "execution_count": null,
   "metadata": {},
   "outputs": [],
   "source": [
    "par.grid_A_pd"
   ]
  },
  {
   "cell_type": "code",
   "execution_count": null,
   "metadata": {},
   "outputs": [],
   "source": [
    "plt.scatter(par.grid_A_pd, sol.C_tot_pd[iP,iL])\n",
    "plt.ylabel('C_tot')\n",
    "plt.xlabel('A pd')\n",
    "plt.title(\"Consumption\")"
   ]
  },
  {
   "cell_type": "markdown",
   "metadata": {},
   "source": [
    "...which then makes the endogenous grid non-monotonous as well."
   ]
  },
  {
   "cell_type": "code",
   "execution_count": null,
   "metadata": {},
   "outputs": [],
   "source": [
    "plt.scatter(sol.M_pd[iP,iL],par.grid_A_pd)\n",
    "plt.xlabel('M')\n",
    "plt.ylabel('A')\n",
    "plt.title(\"Endogenous grid\")\n",
    "# endogenous grid is crazy due to bargaining shifting the value function"
   ]
  },
  {
   "cell_type": "markdown",
   "metadata": {},
   "source": [
    "Let's pretend everything is okay and do upper envelope anyway..."
   ]
  },
  {
   "cell_type": "code",
   "execution_count": null,
   "metadata": {},
   "outputs": [],
   "source": [
    "# A bunch of code doing upper envelope, written off from consav\n",
    "size = par.num_A_pd\n",
    "\n",
    "C_now = np.zeros(size)\n",
    "C_now[:] = sol.C_tot_pd[iP, iL,:] \n",
    "\n",
    "M_now = np.zeros(size)\n",
    "M_now[:] = model.sol.M_pd[iP, iL,:]\n",
    "\n",
    "V_now = np.zeros(size)\n",
    "V_now[:] = model.sol.V_couple_pd[iP, iL,:]\n",
    "\n",
    "Vm_next = np.zeros((par.num_love,par.num_A))\n",
    "Vm_next[:,:] = model.sol.Vm_couple[t+1,iP,:,:]\n",
    "\n",
    "Vw_next = np.zeros((par.num_love,par.num_A))\n",
    "Vw_next[:,:] = model.sol.Vw_couple[t+1,iP,:,:]\n",
    "\n",
    "value = lambda C,M: model.value_of_choice_couple(C, t, M, iL, iP, model.par.grid_power[iP], Vw_next, Vm_next)[0]\n",
    "\n",
    "# Jeppe's algorithm\n",
    "Na = par.num_A_pd\n",
    "Nm = par.num_A\n",
    "\n",
    "# post decision grid\n",
    "grid_a = par.grid_A_pd\n",
    "grid_m = par.grid_A\n",
    "\n",
    "# endogenous grids\n",
    "m_vec = sol.M_pd[iP, iL]\n",
    "c_vec = sol.C_tot_pd[iP, iL]\n",
    "w_vec = sol.V_couple_pd[iP, iL]\n",
    "\n",
    "# common grid\n",
    "c_ast_vec = np.zeros(Nm)\n",
    "v_ast_vec = np.zeros(Nm) - np.inf\n",
    "\n",
    "\n",
    "# constraint\n",
    "# binding if common m is smaller than the smallest m implied by EGM step (m_vec[0])\n",
    "im = 0\n",
    "while im < Nm and grid_m[im] < m_vec[0]:\n",
    "    # consume all\n",
    "    c_ast_vec[im] = grid_m[im]\n",
    "\n",
    "    # value of choice\n",
    "    v_ast_vec[im] = value(c_ast_vec[im], grid_m[im])\n",
    "\n",
    "    im +=1\n",
    "\n",
    "for ia in range(Na-1):\n",
    "    a_low = grid_a[ia]\n",
    "    a_high = grid_a[ia+1]\n",
    "\n",
    "    # w_low = w_vec[ia]\n",
    "    # w_high = w_vec[ia+1]\n",
    "\n",
    "    if a_low>a_high:\n",
    "        continue\n",
    "\n",
    "    # w_slope = (w_high-w_low)/(a_high-a_low)\n",
    "\n",
    "    # m interval and c slope\n",
    "    m_low = m_vec[ia]\n",
    "    m_high = m_vec[ia+1]\n",
    "\n",
    "    c_low = c_vec[ia]\n",
    "    c_high = c_vec[ia+1]\n",
    "\n",
    "    c_slope = (c_high-c_low)/(m_high-m_low)\n",
    "\n",
    "    # loop through common grid\n",
    "    for im in range(Nm):\n",
    "        # current m\n",
    "        m = grid_m[im]\n",
    "\n",
    "        # interpolate?\n",
    "        interp = (m>m_low) and (m<m_high)\n",
    "        extrap_above = ia==Na-2 and m>m_vec[Na-1] # return to this\n",
    "\n",
    "        # interpolation or extrapolation\n",
    "        if interp or extrap_above:\n",
    "\n",
    "            # implied guess:\n",
    "            c_guess = c_low + c_slope*(m-m_low)\n",
    "            a_guess = m - c_guess\n",
    "\n",
    "            # implied post-decision value fnuction\n",
    "            # w = w_low + w_slope*(a_guess-a_low)\n",
    "\n",
    "            # value of choice\n",
    "            v_guess = value(c_guess, m)\n",
    "\n",
    "            # update\n",
    "            if v_guess > v_ast_vec[im]:\n",
    "                c_ast_vec[im] = c_guess\n",
    "                v_ast_vec[im] = v_guess\n",
    "\n",
    "plt.plot(grid_m, c_ast_vec, linewidth=5, label='upper envelope')\n",
    "plt.plot(m_vec,c_vec, label='EGM consumption')\n",
    "plt.plot(grid_m, grid_m, color='black', linestyle='--', alpha=0.5, label='45 degree')\n",
    "plt.legend()\n",
    "plt.xlabel('M')\n",
    "plt.title('Consumption');"
   ]
  },
  {
   "cell_type": "markdown",
   "metadata": {},
   "source": [
    "Resulting in..."
   ]
  },
  {
   "cell_type": "code",
   "execution_count": null,
   "metadata": {},
   "outputs": [],
   "source": [
    "plt.plot(sol.M_pd[iP,iL],sol.C_tot_pd[iP, iL])\n",
    "\n",
    "# scatter plot of the same thing with numbers on the grid points\n",
    "plt.scatter(sol.M_pd[iP,iL],sol.C_tot_pd[iP, iL], label=\"Endogenous grid\")\n",
    "for i in range(0, len(sol.M_pd[iP,iL])):\n",
    "    if i % 5 == 0:\n",
    "        plt.text(sol.M_pd[iP,iL][i],sol.C_tot_pd[iP, iL][i], f\"{par.grid_A_pd[i]:5.2f}\", fontsize=8)\n",
    "\n",
    "plt.plot(par.grid_A,par.grid_A, color='black', linestyle='--', alpha=0.5)\n",
    "\n",
    "plt.xlabel('M')\n",
    "plt.ylabel('C_tot')\n",
    "\n",
    "plt.plot(par.grid_A, sol.C_tot_remain_couple[t,iP,iL,:], label=model.name)\n",
    "plt.plot(models['weird VFI'].par.grid_A, models['weird VFI'].sol.C_tot_remain_couple[t,iP,iL,:], label=models['weird VFI'].name)\n",
    "plt.legend();"
   ]
  },
  {
   "cell_type": "markdown",
   "metadata": {},
   "source": [
    "Questions:\n",
    "* How do we handle the non-monotenous marginal value?\n",
    "* Given that we figure out how the non-monotonous marginal value works, how do we do upper envelope here? I don't think the savings function is necessarily (weakly) increasing in this problem, so we need to figure out how to deal with that.\n",
    "    * I also kinda think that the value function is not the right fnuction to use for upper envelope here...\n",
    "* How do we impose the budget constraint? Right now, it is very clearly not done right (let go of budget constraint -> decrease consumption)"
   ]
  }
 ],
 "metadata": {
  "kernelspec": {
   "display_name": "base",
   "language": "python",
   "name": "python3"
  },
  "language_info": {
   "codemirror_mode": {
    "name": "ipython",
    "version": 3
   },
   "file_extension": ".py",
   "mimetype": "text/x-python",
   "name": "python",
   "nbconvert_exporter": "python",
   "pygments_lexer": "ipython3",
   "version": "3.11.5"
  }
 },
 "nbformat": 4,
 "nbformat_minor": 2
}
