{
 "cells": [
  {
   "cell_type": "markdown",
   "metadata": {},
   "source": [
    "## Setup"
   ]
  },
  {
   "cell_type": "code",
   "execution_count": null,
   "metadata": {},
   "outputs": [],
   "source": [
    "%load_ext autoreload\n",
    "%load_ext line_profiler\n",
    "%autoreload 2\n",
    "\n",
    "import numpy as np\n",
    "from mpl_toolkits import mplot3d\n",
    "import matplotlib\n",
    "import matplotlib.pyplot as plt\n",
    "import scipy.optimize as optimize\n",
    "\n",
    "import Bargaining as brg\n",
    "import bargaining_algorithm as ba\n",
    "from figures import *\n",
    "from checks import *\n",
    "\n",
    "import numpy as np\n",
    "import numba as nb\n",
    "import scipy.optimize as optimize\n",
    "import copy\n",
    "\n",
    "from EconModel import EconModelClass\n",
    "from consav.grids import nonlinspace\n",
    "from consav import linear_interp, linear_interp_1d\n",
    "from consav import quadrature\n",
    "\n",
    "#plt.rcParams.update({'figure.max_open_warning': 0,'text.usetex': False})\n",
    "\n",
    "# c++ settings\n",
    "do_cpp = False\n",
    "do_compile = True\n",
    "threads = 16"
   ]
  },
  {
   "cell_type": "markdown",
   "metadata": {},
   "source": [
    "Compile C++ files"
   ]
  },
  {
   "cell_type": "code",
   "execution_count": null,
   "metadata": {},
   "outputs": [],
   "source": [
    "# compile c++ files\n",
    "if do_cpp & do_compile:\n",
    "    model = brg.HouseholdModelClass(par={'do_cpp':do_cpp,'num_Ctot':100})\n",
    "    model.link_to_cpp(force_compile=do_compile)"
   ]
  },
  {
   "cell_type": "markdown",
   "metadata": {},
   "source": [
    "### Model settings"
   ]
  },
  {
   "cell_type": "code",
   "execution_count": null,
   "metadata": {},
   "outputs": [],
   "source": [
    "# settings for models to solve\n",
    "T = 10\n",
    "do_load = True\n",
    "do_save = False\n",
    "\n",
    "specs = {\n",
    "       'py baseline':    \n",
    "              {'latexname':'', \n",
    "              'load': do_load,\n",
    "              'save': do_save,\n",
    "              'par':{'T':T,\n",
    "                     'do_cpp':False,\n",
    "                     'threads':threads,\n",
    "                     \n",
    "                     'div_A_share':0.3,\n",
    "                     'sigma_love':0.0,\n",
    "                     }\n",
    "              },\n",
    "    \n",
    "       'cpp intraperiod_consumption':    \n",
    "              {'latexname':'', \n",
    "              'load': do_load,\n",
    "              'save': do_save,\n",
    "              'par':{'T':T,\n",
    "                     'do_cpp':False,\n",
    "                     'threads':threads,\n",
    "                     \n",
    "                     'div_A_share':0.3,\n",
    "                     'sigma_love':0.0,\n",
    "                     'cpp_intraperiod_consumption': True,\n",
    "                     }\n",
    "              },\n",
    "              \n",
    "       'cpp value_of_choice_couple':    \n",
    "              {'latexname':'', \n",
    "              'load': do_load,\n",
    "              'save': do_save,\n",
    "              'par':{'T':T,\n",
    "                     'do_cpp':False,\n",
    "                     'threads':threads,\n",
    "                     \n",
    "                     'div_A_share':0.3,\n",
    "                     'sigma_love':0.0,\n",
    "                     'cpp_intraperiod_consumption': True,\n",
    "                     'cpp_value_of_choice_couple':True,\n",
    "                     }\n",
    "              },\n",
    "              \n",
    "       'cpp solve_remain_couple':    \n",
    "              {'latexname':'', \n",
    "              'load': do_load,\n",
    "              'save': do_save,\n",
    "              'par':{'T':T,\n",
    "                     'do_cpp':False,\n",
    "                     'threads':threads,\n",
    "                     \n",
    "                     'div_A_share':0.3,\n",
    "                     'sigma_love':0.0,\n",
    "                     'cpp_intraperiod_consumption': True,\n",
    "                     'cpp_value_of_choice_couple':True,\n",
    "                     'cpp_solve_remain_couple': True,\n",
    "                     }\n",
    "              },\n",
    "              \n",
    "       'cpp':    \n",
    "              {'latexname':'', \n",
    "              'load': do_load,\n",
    "              'save': do_save,\n",
    "              'par':{'T':T,\n",
    "                     'do_cpp':True,\n",
    "                     'threads':threads,\n",
    "                     \n",
    "                     'div_A_share':0.3,\n",
    "                     'sigma_love':0.0,\n",
    "                     }\n",
    "              },\n",
    "}"
   ]
  },
  {
   "cell_type": "code",
   "execution_count": null,
   "metadata": {},
   "outputs": [],
   "source": [
    "def printer(specs):\n",
    "    # find the longest name in specs\n",
    "    max_length = 0\n",
    "    for key in specs.keys():\n",
    "        if len(key)>max_length:\n",
    "            max_length = len(key)\n",
    "            \n",
    "    # get all keys in par dictionaries\n",
    "    all_keys = set()\n",
    "    for spec in specs.values():\n",
    "        all_keys |= set(spec['par'].keys())\n",
    "            \n",
    "    # print header with model names\n",
    "    print(f\"{' '*max_length}|\",end='')\n",
    "    for name in specs.keys():\n",
    "        print(f\"{name.center(max_length)}|\",end='')\n",
    "    print('')\n",
    "    print('-'*(max_length+1)*(len(specs.keys())+1))\n",
    "        \n",
    "    for p in all_keys:\n",
    "        print(f\"{p.ljust(max_length)}|\",end='')\n",
    "        for name in specs.keys():\n",
    "            if p in specs[name]['par'].keys(): # use value from specs\n",
    "                par_value = specs[name]['par'][p]\n",
    "            else: # use default value\n",
    "                model = model = brg.HouseholdModelClass()\n",
    "                par_value = getattr(model.par,p)\n",
    "            \n",
    "            print(f\"{str(par_value).center(max_length)}|\",end='')\n",
    "        print('')"
   ]
  },
  {
   "cell_type": "code",
   "execution_count": null,
   "metadata": {},
   "outputs": [],
   "source": [
    "printer(specs)"
   ]
  },
  {
   "cell_type": "markdown",
   "metadata": {},
   "source": [
    "Setup model1"
   ]
  },
  {
   "cell_type": "code",
   "execution_count": null,
   "metadata": {},
   "outputs": [],
   "source": [
    "# solve different models\n",
    "models = {}\n",
    "for name,spec in specs.items():\n",
    "        #unpack\n",
    "        par = spec['par']\n",
    "        do_load = spec['load']\n",
    "        do_save = spec['save']\n",
    "        \n",
    "        if do_load:\n",
    "            print(f'loading {name}...')\n",
    "        else:\n",
    "            print(f'solving {name}...')\n",
    "        \n",
    "        \n",
    "        # setup model\n",
    "        models[name] = brg.HouseholdModelClass(name=name, par=spec['par'], load=do_load)\n",
    "        #models[name].link_to_cpp(force_compile=False)\n",
    "        models[name].spec = spec\n",
    "        \n",
    "        # solve\n",
    "        if not do_load:\n",
    "            models[name].solve()\n",
    "        \n",
    "        # save model\n",
    "        if do_save:\n",
    "            models[name].save()\n",
    "            \n",
    "        # delink\n",
    "        #models[name].cpp.delink()"
   ]
  },
  {
   "cell_type": "markdown",
   "metadata": {},
   "source": [
    "## Plots"
   ]
  },
  {
   "cell_type": "markdown",
   "metadata": {},
   "source": [
    "User settings"
   ]
  },
  {
   "cell_type": "code",
   "execution_count": null,
   "metadata": {},
   "outputs": [],
   "source": [
    "# Choose models\n",
    "model_names  = list(models.keys())\n",
    "\n",
    "# Get model values\n",
    "model_values = [models[name] for name in model_names]\n",
    "\n",
    "# Choose index\n",
    "t  = 0\n",
    "iP = 0\n",
    "iL = 0\n",
    "iA = 0\n",
    "idx = (t,iP,iL,iA)"
   ]
  },
  {
   "cell_type": "markdown",
   "metadata": {},
   "source": [
    "Bargaining"
   ]
  },
  {
   "cell_type": "code",
   "execution_count": null,
   "metadata": {},
   "outputs": [],
   "source": [
    "model_plot(model_values,plot_surplus,t,iP,iL,iA, subtitles=model_names)"
   ]
  },
  {
   "cell_type": "markdown",
   "metadata": {},
   "source": [
    "## Focus on 2 models"
   ]
  },
  {
   "cell_type": "code",
   "execution_count": 59,
   "metadata": {},
   "outputs": [],
   "source": [
    "model1 = models['py baseline']\n",
    "model2 = models['cpp']"
   ]
  },
  {
   "cell_type": "markdown",
   "metadata": {},
   "source": [
    "Absolute differences"
   ]
  },
  {
   "cell_type": "code",
   "execution_count": 60,
   "metadata": {},
   "outputs": [
    {
     "name": "stdout",
     "output_type": "stream",
     "text": [
      "Vw_single: 1.3104285656595493e-08\n",
      "Vm_single: 3.2822291551326543e-08\n",
      "Cw_priv_single: 0.00011539274131022736\n",
      "Cm_priv_single: 0.0004908678610571204\n",
      "Cw_pub_single: 0.00011539274131022736\n",
      "Cm_pub_single: 0.0004908678610571204\n",
      "Cw_tot_single: 0.00023078548262045473\n",
      "Cm_tot_single: 0.0009817357221142409\n",
      "Vw_trans_single: 1.3104285656595493e-08\n",
      "Vm_trans_single: 3.2822291551326543e-08\n",
      "Cw_priv_trans_single: 0.00011539274131022736\n",
      "Cm_priv_trans_single: 0.0004908678610571204\n",
      "Cw_pub_trans_single: 0.00011539274131022736\n",
      "Cm_pub_trans_single: 0.0004908678610571204\n",
      "Cw_tot_trans_single: 0.00023078548262045473\n",
      "Cm_tot_trans_single: 0.0009817357221142409\n",
      "Vw_couple: 0.0004775670328953652\n",
      "Vm_couple: 0.0005336584289716839\n",
      "Cw_priv_couple: 0.038624546518186476\n",
      "Cm_priv_couple: 0.045418790509267115\n",
      "C_pub_couple: 0.05752136988159151\n",
      "C_tot_couple: 0.10632288441848292\n",
      "Vw_remain_couple: 0.003010957207844278\n",
      "Vm_remain_couple: 0.001740500152090263\n",
      "Cw_priv_remain_couple: 0.056712133572053514\n",
      "Cm_priv_remain_couple: 0.04809839221861423\n",
      "C_pub_remain_couple: 0.06109386134130479\n",
      "C_tot_remain_couple: 0.11396928704013654\n",
      "power_idx: 1\n",
      "power: 0.0021056823185274798\n",
      "savings_vec: 4.565361897342583\n",
      "Vw_plus_vec: 4.210784071390658\n",
      "Vm_plus_vec: 0.402095245648895\n",
      "marg_V_couple: 0.0\n",
      "marg_V_remain_couple: 0.0\n",
      "EmargU_pd: 0.0\n",
      "C_tot_pd: 0.0\n",
      "M_pd: 0.0\n",
      "pre_Ctot_Cw_priv: 0.0014404534651442091\n",
      "pre_Ctot_Cm_priv: 0.0014404534650518386\n",
      "pre_Ctot_C_pub: 0.0014404534651442091\n",
      "solution_time: 128.2155351638794\n"
     ]
    }
   ],
   "source": [
    "sol_max_abs_diff = difference_in_namespace(model1.sol, model2.sol, output='max_abs_value', relative=False)\n",
    "print_namespace(sol_max_abs_diff)"
   ]
  },
  {
   "cell_type": "markdown",
   "metadata": {},
   "source": [
    "Relative differences"
   ]
  },
  {
   "cell_type": "code",
   "execution_count": 61,
   "metadata": {},
   "outputs": [
    {
     "name": "stdout",
     "output_type": "stream",
     "text": [
      "Vw_single: 2.955090762587939e-09\n",
      "Vm_single: 1.290715386889833e-08\n",
      "Cw_priv_single: 0.00018630079091498327\n",
      "Cm_priv_single: 0.0007118888743326541\n",
      "Cw_pub_single: 0.00018630079091498327\n",
      "Cm_pub_single: 0.0007118888743326541\n",
      "Cw_tot_single: 0.00018630079091498327\n",
      "Cm_tot_single: 0.0007118888743326541\n",
      "Vw_trans_single: 2.955090762587939e-09\n",
      "Vm_trans_single: 1.290715386889833e-08\n",
      "Cw_priv_trans_single: 0.00018630079091498327\n",
      "Cm_priv_trans_single: 0.0007118888743326541\n",
      "Cw_pub_trans_single: 0.00018630079091498327\n",
      "Cm_pub_trans_single: 0.0007118888743326541\n",
      "Cw_tot_trans_single: 0.00018630079091498327\n",
      "Cm_tot_trans_single: 0.0007118888743326541\n",
      "Vw_couple: 7.067026669730796\n",
      "Vm_couple: 7.081364374084266\n",
      "Cw_priv_couple: 0.24136474955582132\n",
      "Cm_priv_couple: 1.0235369521892341\n",
      "C_pub_couple: 0.033236215687277436\n",
      "C_tot_couple: 0.033347641226759754\n",
      "Vw_remain_couple: 7.067026669730796\n",
      "Vm_remain_couple: 7.081364374084266\n",
      "Cw_priv_remain_couple: 0.03650539804813071\n",
      "Cm_priv_remain_couple: 0.036500980189747255\n",
      "C_pub_remain_couple: 0.03650253882227083\n",
      "C_tot_remain_couple: 0.036503369588693234\n",
      "power_idx: 0.5\n",
      "power: 0.24041010355313364\n",
      "savings_vec: 1.0\n",
      "Vw_plus_vec: 1.0\n",
      "Vm_plus_vec: 1.0\n",
      "marg_V_couple: nan\n",
      "marg_V_remain_couple: nan\n",
      "EmargU_pd: nan\n",
      "C_tot_pd: nan\n",
      "M_pd: nan\n",
      "pre_Ctot_Cw_priv: 1.0\n",
      "pre_Ctot_Cm_priv: 1.0\n",
      "pre_Ctot_C_pub: 0.6296408297132372\n",
      "solution_time: 0.9496695019919787\n"
     ]
    },
    {
     "name": "stderr",
     "output_type": "stream",
     "text": [
      "/Users/ahj/Library/CloudStorage/OneDrive-UniversityofCopenhagen/Documents/projects/household_guide/HouseholdBargainingGuide/checks.py:51: RuntimeWarning: divide by zero encountered in divide\n",
      "  diff = np.where(var1 == 0, np.nan, (var2 - var1)/var1)\n",
      "/Users/ahj/Library/CloudStorage/OneDrive-UniversityofCopenhagen/Documents/projects/household_guide/HouseholdBargainingGuide/checks.py:51: RuntimeWarning: invalid value encountered in divide\n",
      "  diff = np.where(var1 == 0, np.nan, (var2 - var1)/var1)\n",
      "/Users/ahj/Library/CloudStorage/OneDrive-UniversityofCopenhagen/Documents/projects/household_guide/HouseholdBargainingGuide/checks.py:71: RuntimeWarning: All-NaN slice encountered\n",
      "  return np.nanmax(np.abs(variable))\n"
     ]
    }
   ],
   "source": [
    "sol_max_rel_diff = difference_in_namespace(model1.sol, model2.sol, output='max_abs_value', relative=True)\n",
    "print_namespace(sol_max_rel_diff)"
   ]
  },
  {
   "cell_type": "code",
   "execution_count": null,
   "metadata": {},
   "outputs": [],
   "source": [
    "sol_max_rel_diff_index = difference_in_namespace(model1.sol, model2.sol, output='max_abs_index', relative=False)\n",
    "print_namespace(sol_max_rel_diff_index)"
   ]
  },
  {
   "cell_type": "markdown",
   "metadata": {},
   "source": [
    "## Plot the differences"
   ]
  },
  {
   "cell_type": "markdown",
   "metadata": {},
   "source": [
    "Specify the variable that index of maximum absolute difference should be based on"
   ]
  },
  {
   "cell_type": "code",
   "execution_count": 58,
   "metadata": {},
   "outputs": [],
   "source": [
    "variable = 'Vw_couple'"
   ]
  },
  {
   "cell_type": "markdown",
   "metadata": {},
   "source": [
    "Find index with largest difference"
   ]
  },
  {
   "cell_type": "code",
   "execution_count": null,
   "metadata": {},
   "outputs": [],
   "source": [
    "sol_max_abs_diff_idx = difference_in_namespace(model1.sol, model2.sol, output='max_abs_index', relative=False)"
   ]
  },
  {
   "cell_type": "code",
   "execution_count": null,
   "metadata": {},
   "outputs": [],
   "source": [
    "idx = getattr(sol_max_abs_diff_idx,variable)\n",
    "\n",
    "(t,iP,iL,iA) = idx\n",
    "print(f't = {t}, iP = {iP}, iL = {iL}, iA = {iA}')"
   ]
  },
  {
   "cell_type": "markdown",
   "metadata": {},
   "source": [
    "### Bargaining power"
   ]
  },
  {
   "cell_type": "code",
   "execution_count": null,
   "metadata": {},
   "outputs": [],
   "source": [
    "model_plot([model1,model2],plot_surplus,t,iP,iL,iA, subtitles=[model1.name,model2.name])"
   ]
  },
  {
   "cell_type": "markdown",
   "metadata": {},
   "source": [
    "### Values"
   ]
  },
  {
   "cell_type": "markdown",
   "metadata": {},
   "source": [
    "Plot female values"
   ]
  },
  {
   "cell_type": "code",
   "execution_count": null,
   "metadata": {},
   "outputs": [],
   "source": [
    "model_plot([model1,model2], plot_var_over_assets, ['Vw_couple','Vw_remain_couple','Vw_single'], idx, grid_points=False, subtitles=[model1.name, model2.name ])"
   ]
  },
  {
   "cell_type": "code",
   "execution_count": null,
   "metadata": {},
   "outputs": [],
   "source": [
    "model_plot([model1,model2], plot_var_over_time, ['Vw_couple','Vw_remain_couple','Vw_single'], idx, subtitles=[model1.name, model2.name ])"
   ]
  },
  {
   "cell_type": "markdown",
   "metadata": {},
   "source": [
    "Plot male values"
   ]
  },
  {
   "cell_type": "code",
   "execution_count": null,
   "metadata": {},
   "outputs": [],
   "source": [
    "model_plot([model1,model2], plot_var_over_assets, ['Vm_couple','Vm_remain_couple','Vm_single'], idx, grid_points=False, subtitles=[model1.name, model2.name ])"
   ]
  },
  {
   "cell_type": "markdown",
   "metadata": {},
   "source": [
    "### Consumption"
   ]
  },
  {
   "cell_type": "markdown",
   "metadata": {},
   "source": [
    "Plot female consumption"
   ]
  },
  {
   "cell_type": "code",
   "execution_count": null,
   "metadata": {},
   "outputs": [],
   "source": [
    "model_plot([model1,model2], plot_var_over_assets, ['Cw_priv_couple','Cw_priv_remain_couple','Cw_priv_single', 'Cw_priv_trans_single'], idx, grid_points=False, subtitles=[model1.name, model2.name ])"
   ]
  },
  {
   "cell_type": "markdown",
   "metadata": {},
   "source": [
    "Plot male consumption"
   ]
  },
  {
   "cell_type": "code",
   "execution_count": null,
   "metadata": {},
   "outputs": [],
   "source": [
    "model_plot([model1,model2], plot_var_over_assets, ['Cm_priv_couple','Cm_priv_remain_couple','Cm_priv_single', 'Cm_priv_trans_single'], idx, grid_points=False, subtitles=[model1.name, model2.name ])"
   ]
  },
  {
   "cell_type": "markdown",
   "metadata": {},
   "source": [
    "Plot public consumption"
   ]
  },
  {
   "cell_type": "code",
   "execution_count": null,
   "metadata": {},
   "outputs": [],
   "source": [
    "model_plot([model1,model2], plot_var_over_assets, ['C_pub_couple','C_pub_remain_couple','Cm_pub_single', 'Cw_pub_trans_single', 'Cm_pub_trans_single'], idx, grid_points=False, subtitles=[model1.name, model2.name ])"
   ]
  },
  {
   "cell_type": "markdown",
   "metadata": {},
   "source": [
    "## Plots of difference"
   ]
  },
  {
   "cell_type": "code",
   "execution_count": null,
   "metadata": {},
   "outputs": [],
   "source": [
    "model_diff =  brg.HouseholdModelClass(name='Model differences')\n",
    "model_diff.par = model1.par\n",
    "model_diff.sol = difference_in_namespace(model1.sol, model2.sol)"
   ]
  },
  {
   "cell_type": "markdown",
   "metadata": {},
   "source": [
    "Plot value"
   ]
  },
  {
   "cell_type": "code",
   "execution_count": null,
   "metadata": {},
   "outputs": [],
   "source": [
    "model_plot([model_diff], plot_var_over_time, ['Vw_couple','Vw_remain_couple','Vw_single'], idx, subtitles=[model_diff.name])"
   ]
  },
  {
   "cell_type": "markdown",
   "metadata": {},
   "source": [
    "Plot consumption"
   ]
  },
  {
   "cell_type": "code",
   "execution_count": null,
   "metadata": {},
   "outputs": [],
   "source": [
    "# plot pre_Ctot_Cw_priv in a 3 dimensional plot with using meshgrids \n",
    "fig = plt.figure()\n",
    "ax = plt.axes(projection='3d')\n",
    "mesh1, mesh2 = np.meshgrid(model1.par.grid_power, model1.par.grid_Ctot, indexing='ij')\n",
    "\n",
    "ax.plot_surface(mesh1,mesh2, model_diff.sol.pre_Ctot_Cw_priv, cmap='viridis', edgecolor='none')\n",
    "\n",
    "# label axes\n",
    "ax.set_xlabel('Power')\n",
    "ax.set_ylabel('Ctot')\n"
   ]
  },
  {
   "cell_type": "markdown",
   "metadata": {},
   "source": [
    "## PY to CPP decoposition"
   ]
  },
  {
   "cell_type": "code",
   "execution_count": 62,
   "metadata": {},
   "outputs": [],
   "source": [
    "model_bank = {}\n",
    "model_bank[1] = models['py baseline']\n",
    "model_bank[2] = models['cpp intraperiod_consumption']\n",
    "model_bank[3] = models['cpp value_of_choice_couple']\n",
    "model_bank[4] = models['cpp solve_remain_couple']\n",
    "model_bank[5] = models['cpp']\n",
    "\n",
    "output = ''\n",
    "relative = False\n",
    "\n",
    "var = 'Vm_couple'"
   ]
  },
  {
   "cell_type": "markdown",
   "metadata": {},
   "source": [
    "Find index with largest difference"
   ]
  },
  {
   "cell_type": "code",
   "execution_count": 63,
   "metadata": {},
   "outputs": [
    {
     "name": "stdout",
     "output_type": "stream",
     "text": [
      "t = 2, iP = 13, iL = 20, iA = 22\n"
     ]
    }
   ],
   "source": [
    "sol_max_abs_diff_idx = difference_in_namespace(model1.sol, model2.sol, output='max_abs_index', relative=False)\n",
    "idx = getattr(sol_max_abs_diff_idx,var)\n",
    "\n",
    "(t,iP,iL,iA) = idx\n",
    "print(f't = {t}, iP = {iP}, iL = {iL}, iA = {iA}')"
   ]
  },
  {
   "cell_type": "markdown",
   "metadata": {},
   "source": [
    "Calculate differences"
   ]
  },
  {
   "cell_type": "code",
   "execution_count": 64,
   "metadata": {},
   "outputs": [],
   "source": [
    "diff = {}\n",
    "model_diff = brg.HouseholdModelClass(name=f'PY to CPP decomposition')\n",
    "\n",
    "# Calculate differences\n",
    "for i in range(1,6):\n",
    "    diff[i]             = difference_in_namespace(model_bank[1].sol, model_bank[i].sol, output=output, relative=relative)\n",
    "    for v in model_bank[1].sol.__dict__.keys():\n",
    "        setattr(model_diff.sol,f'{v} ({model_bank[i].name})',getattr(diff[i],v))"
   ]
  },
  {
   "cell_type": "markdown",
   "metadata": {},
   "source": [
    "Plot decomposition "
   ]
  },
  {
   "cell_type": "code",
   "execution_count": 65,
   "metadata": {},
   "outputs": [],
   "source": [
    "# Group diffs of the same variable\n",
    "plot_vars_diff = {}\n",
    "for v in model_bank[1].sol.__dict__.keys():\n",
    "    plot_vars_diff[v] = [f'{v} ({model_bank[i].name})' for i in range(1,6)]"
   ]
  },
  {
   "cell_type": "code",
   "execution_count": 66,
   "metadata": {},
   "outputs": [
    {
     "data": {
      "text/plain": [
       "['Vm_couple (py baseline)',\n",
       " 'Vm_couple (cpp intraperiod_consumption)',\n",
       " 'Vm_couple (cpp value_of_choice_couple)',\n",
       " 'Vm_couple (cpp solve_remain_couple)',\n",
       " 'Vm_couple (cpp)']"
      ]
     },
     "execution_count": 66,
     "metadata": {},
     "output_type": "execute_result"
    }
   ],
   "source": [
    "plot_vars_diff[var]"
   ]
  },
  {
   "cell_type": "code",
   "execution_count": 67,
   "metadata": {},
   "outputs": [
    {
     "data": {
      "image/png": "[encoded data removed]",
      "text/plain": [
       "<Figure size 677x478.784 with 1 Axes>"
      ]
     },
     "metadata": {},
     "output_type": "display_data"
    }
   ],
   "source": [
    "plot_var = var\n",
    "\n",
    "colors = ['b', 'g', 'r', 'c', 'm']\n",
    "linestyles = ['--', '-.', ':', '--', '-.']\n",
    "markers = ['o', 'v', '^', '<', '>']\n",
    "plt.rc('axes', prop_cycle=(plt.cycler('color', colors) + plt.cycler('linestyle', linestyles) + plt.cycler('marker', markers)))\n",
    "\n",
    "\n",
    "model_plot(model_diff, plot_var_over_time, plot_vars_diff[plot_var], idx, subtitles=None)\n"
   ]
  },
  {
   "cell_type": "code",
   "execution_count": null,
   "metadata": {},
   "outputs": [],
   "source": [
    "getattr(model_diff.sol,'Cw_pub_trans_single (cpp value_of_choice_couple)')"
   ]
  },
  {
   "cell_type": "code",
   "execution_count": null,
   "metadata": {},
   "outputs": [],
   "source": [
    "# Make a random dict\n",
    "d = {}\n",
    "d['a'] = 1\n",
    "d['b'] = 2\n",
    "d['c'] = 3\n",
    "\n",
    "list(d.values())[1]"
   ]
  },
  {
   "cell_type": "code",
   "execution_count": null,
   "metadata": {},
   "outputs": [],
   "source": []
  }
 ],
 "metadata": {
  "kernelspec": {
   "display_name": "base",
   "language": "python",
   "name": "python3"
  },
  "language_info": {
   "codemirror_mode": {
    "name": "ipython",
    "version": 3
   },
   "file_extension": ".py",
   "mimetype": "text/x-python",
   "name": "python",
   "nbconvert_exporter": "python",
   "pygments_lexer": "ipython3",
   "version": "3.9.7"
  },
  "orig_nbformat": 4
 },
 "nbformat": 4,
 "nbformat_minor": 2
}
