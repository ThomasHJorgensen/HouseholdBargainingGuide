{
 "cells": [
  {
   "cell_type": "code",
   "execution_count": 1,
   "metadata": {},
   "outputs": [],
   "source": [
    "%load_ext autoreload\n",
    "%load_ext line_profiler\n",
    "%autoreload 2\n",
    "\n",
    "import numpy as np\n",
    "from mpl_toolkits import mplot3d\n",
    "import matplotlib\n",
    "import matplotlib.pyplot as plt\n",
    "import scipy.optimize as optimize\n",
    "\n",
    "import Bargaining as brg\n",
    "\n",
    "# plot style\n",
    "linestyles = ['-','--','-.',':',':']\n",
    "markers = ['o','s','D','*','P']\n",
    "linewidth = 2\n",
    "font_size = 17\n",
    "font = {'size':font_size}\n",
    "matplotlib.rc('font', **font)\n",
    "\n",
    "plt.rcParams.update({'figure.max_open_warning': 0,'text.usetex': False})\n",
    "path = 'output/'\n",
    "\n",
    "# c++ settings\n",
    "do_cpp = True\n",
    "do_compile = True\n",
    "threads = 16"
   ]
  },
  {
   "cell_type": "code",
   "execution_count": null,
   "metadata": {},
   "outputs": [],
   "source": [
    "# compile c++ files\n",
    "if do_cpp & do_compile:\n",
    "    model = brg.HouseholdModelClass(par={'do_cpp':do_cpp,'num_Ctot':100})\n",
    "    model.link_to_cpp(force_compile=do_compile)"
   ]
  },
  {
   "cell_type": "code",
   "execution_count": null,
   "metadata": {},
   "outputs": [],
   "source": [
    "# settings for models to solve\n",
    "T = 10\n",
    "specs = {\n",
    "    'model 1':{'latexname':'$\\sigma_{\\psi}=0$', 'par':{'sigma_love':0.0,'T':T,'do_cpp':do_cpp,'threads':threads}},\n",
    "    # 'model 2':{'latexname':'$\\sigma_{\\psi}=0.04$', 'par':{'sigma_love':0.04,'T':T,'do_cpp':do_cpp,'threads':threads}},\n",
    "    # 'model 3':{'latexname':'$\\sigma_{\\psi}=0.1$', 'par':{'sigma_love':0.1,'T':T,'do_cpp':do_cpp,'threads':threads}},\n",
    "    # 'model 4':{'latexname':'$\\kappa_w=0.3$', 'par':{'div_A_share':0.3,'sigma_love':0.0,'T':T,'do_cpp':do_cpp,'threads':threads}},\n",
    "}\n"
   ]
  },
  {
   "cell_type": "code",
   "execution_count": null,
   "metadata": {},
   "outputs": [
    {
     "name": "stdout",
     "output_type": "stream",
     "text": [
      "solving model 1...\n",
      "solving model 2...\n",
      "solving model 3...\n",
      "solving model 4...\n"
     ]
    }
   ],
   "source": [
    "# solve different models\n",
    "models = {}\n",
    "for name,spec in specs.items():\n",
    "    print(f'solving {name}...')\n",
    "    \n",
    "    # setup model\n",
    "    models[name] = brg.HouseholdModelClass(name=name,par=spec['par'])\n",
    "    if do_cpp: models[name].link_to_cpp(force_compile=False)\n",
    "    models[name].spec = spec\n",
    "    \n",
    "    # solve\n",
    "    models[name].solve()"
   ]
  },
  {
   "cell_type": "code",
   "execution_count": null,
   "metadata": {},
   "outputs": [],
   "source": []
  }
 ],
 "metadata": {
  "kernelspec": {
   "display_name": "base",
   "language": "python",
   "name": "python3"
  },
  "language_info": {
   "codemirror_mode": {
    "name": "ipython",
    "version": 3
   },
   "file_extension": ".py",
   "mimetype": "text/x-python",
   "name": "python",
   "nbconvert_exporter": "python",
   "pygments_lexer": "ipython3",
   "version": "3.11.4"
  },
  "orig_nbformat": 4
 },
 "nbformat": 4,
 "nbformat_minor": 2
}
